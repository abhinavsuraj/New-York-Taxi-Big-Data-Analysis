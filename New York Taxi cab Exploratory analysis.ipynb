{
  "nbformat": 4,
  "nbformat_minor": 0,
  "metadata": {
    "colab": {
      "name": "December 8 Spark on Colaboratory.ipynb",
      "version": "0.3.2",
      "provenance": [],
      "collapsed_sections": []
    },
    "kernelspec": {
      "name": "python3",
      "display_name": "Python 3"
    },
    "accelerator": "GPU"
  },
  "cells": [
    {
      "metadata": {
        "id": "kvD4HBMi0ohY",
        "colab_type": "text"
      },
      "cell_type": "markdown",
      "source": [
        "# Install Java, Spark, and Findspark\n",
        "This installs Apache Spark 2.2.1, Java 8, and [Findspark](https://github.com/minrk/findspark), a library that makes it easy for Python to find Spark."
      ]
    },
    {
      "metadata": {
        "id": "fUhBhrGmyAvs",
        "colab_type": "code",
        "colab": {}
      },
      "cell_type": "code",
      "source": [
        "!apt-get install openjdk-8-jdk-headless -qq > /dev/null\n",
        "# !wget -q http://apache.osuosl.org/spark/spark-2.2.1/spark-2.2.1-bin-hadoop2.7.tgz\n",
        "!wget -q https://www-eu.apache.org/dist/spark/spark-2.4.0/spark-2.4.0-bin-hadoop2.7.tgz\n",
        "!tar xf spark-2.4.0-bin-hadoop2.7.tgz\n",
        "# !tar xf https://www-eu.apache.org/dist/spark/spark-2.4.0/spark-2.4.0-bin-hadoop2.7.tgz\n",
        "!pip install -q findspark"
      ],
      "execution_count": 0,
      "outputs": []
    },
    {
      "metadata": {
        "id": "TbMXJcapoWOH",
        "colab_type": "code",
        "colab": {}
      },
      "cell_type": "code",
      "source": [
        "# !pip install pyspark_dist_explore"
      ],
      "execution_count": 0,
      "outputs": []
    },
    {
      "metadata": {
        "id": "b4Kjvk_h1AHl",
        "colab_type": "text"
      },
      "cell_type": "markdown",
      "source": [
        "# Set Environment Variables\n",
        "Set the locations where Spark and Java are installed."
      ]
    },
    {
      "metadata": {
        "id": "8Xnb_ePUyQIL",
        "colab_type": "code",
        "colab": {}
      },
      "cell_type": "code",
      "source": [
        "import os\n",
        "os.environ[\"JAVA_HOME\"] = \"/usr/lib/jvm/java-8-openjdk-amd64\"\n",
        "#os.environ[\"SPARK_HOME\"] = \"/content/spark-2.2.1-bin-hadoop2.7\"\n",
        "os.environ[\"SPARK_HOME\"] = \"/content/spark-2.4.0-bin-hadoop2.7\""
      ],
      "execution_count": 0,
      "outputs": []
    },
    {
      "metadata": {
        "id": "NwU28K5f1H3P",
        "colab_type": "text"
      },
      "cell_type": "markdown",
      "source": [
        "# Start a SparkSession\n",
        "This will start a local Spark session."
      ]
    },
    {
      "metadata": {
        "id": "zgReRGl0y23D",
        "colab_type": "code",
        "colab": {}
      },
      "cell_type": "code",
      "source": [
        "import findspark\n",
        "import pandas\n",
        "findspark.init()\n",
        "from pyspark.sql import SparkSession\n",
        "from pyspark.sql.functions import isnan, when, count, col\n",
        "import matplotlib.pyplot as plt\n",
        "\n",
        "spark = SparkSession.builder.master(\"local[*]\").getOrCreate()"
      ],
      "execution_count": 0,
      "outputs": []
    },
    {
      "metadata": {
        "id": "0dHyqrTjVQGU",
        "colab_type": "code",
        "outputId": "d9bc9ec5-0115-4a76-b368-a1e37e5293d3",
        "colab": {
          "base_uri": "https://localhost:8080/",
          "height": 219
        }
      },
      "cell_type": "code",
      "source": [
        "spark"
      ],
      "execution_count": 0,
      "outputs": [
        {
          "output_type": "execute_result",
          "data": {
            "text/html": [
              "\n",
              "            <div>\n",
              "                <p><b>SparkSession - in-memory</b></p>\n",
              "                \n",
              "        <div>\n",
              "            <p><b>SparkContext</b></p>\n",
              "\n",
              "            <p><a href=\"http://fcc2eb38ac50:4040\">Spark UI</a></p>\n",
              "\n",
              "            <dl>\n",
              "              <dt>Version</dt>\n",
              "                <dd><code>v2.4.0</code></dd>\n",
              "              <dt>Master</dt>\n",
              "                <dd><code>local[*]</code></dd>\n",
              "              <dt>AppName</dt>\n",
              "                <dd><code>pyspark-shell</code></dd>\n",
              "            </dl>\n",
              "        </div>\n",
              "        \n",
              "            </div>\n",
              "        "
            ],
            "text/plain": [
              "<pyspark.sql.session.SparkSession at 0x7fd9a82cc6d8>"
            ]
          },
          "metadata": {
            "tags": []
          },
          "execution_count": 5
        }
      ]
    },
    {
      "metadata": {
        "id": "Q0Q0-bwjSYlm",
        "colab_type": "code",
        "colab": {}
      },
      "cell_type": "code",
      "source": [
        "from pyspark.sql import SparkSession\n",
        "spark = SparkSession.builder.appName('NYC').getOrCreate()"
      ],
      "execution_count": 0,
      "outputs": []
    },
    {
      "metadata": {
        "id": "hWEduAwxg74K",
        "colab_type": "code",
        "outputId": "3b9714ab-f975-4ab5-c378-637711dc23e1",
        "colab": {
          "base_uri": "https://localhost:8080/",
          "height": 208
        }
      },
      "cell_type": "code",
      "source": [
        "!wget https://s3.amazonaws.com/nyc-tlc/misc/taxi+_zone_lookup.csv\n"
      ],
      "execution_count": 0,
      "outputs": [
        {
          "output_type": "stream",
          "text": [
            "--2018-12-10 15:13:30--  https://s3.amazonaws.com/nyc-tlc/misc/taxi+_zone_lookup.csv\n",
            "Resolving s3.amazonaws.com (s3.amazonaws.com)... 52.216.96.53\n",
            "Connecting to s3.amazonaws.com (s3.amazonaws.com)|52.216.96.53|:443... connected.\n",
            "HTTP request sent, awaiting response... 200 OK\n",
            "Length: 12322 (12K) [application/octet-stream]\n",
            "Saving to: ‘taxi+_zone_lookup.csv’\n",
            "\n",
            "\rtaxi+_zone_lookup.c   0%[                    ]       0  --.-KB/s               \rtaxi+_zone_lookup.c 100%[===================>]  12.03K  --.-KB/s    in 0s      \n",
            "\n",
            "2018-12-10 15:13:30 (125 MB/s) - ‘taxi+_zone_lookup.csv’ saved [12322/12322]\n",
            "\n"
          ],
          "name": "stdout"
        }
      ]
    },
    {
      "metadata": {
        "id": "WVc1OzH6KAZ9",
        "colab_type": "code",
        "outputId": "7fe42e5a-18f4-4d42-d797-2de588a438f5",
        "colab": {
          "base_uri": "https://localhost:8080/",
          "height": 399
        }
      },
      "cell_type": "code",
      "source": [
        "!wget https://s3.amazonaws.com/nyc-tlc/trip+data/green_tripdata_2018-04.csv\n",
        "!wget https://s3.amazonaws.com/nyc-tlc/trip+data/green_tripdata_2018-05.csv"
      ],
      "execution_count": 0,
      "outputs": [
        {
          "output_type": "stream",
          "text": [
            "--2018-12-10 15:13:31--  https://s3.amazonaws.com/nyc-tlc/trip+data/green_tripdata_2018-04.csv\n",
            "Resolving s3.amazonaws.com (s3.amazonaws.com)... 52.216.96.53\n",
            "Connecting to s3.amazonaws.com (s3.amazonaws.com)|52.216.96.53|:443... connected.\n",
            "HTTP request sent, awaiting response... 200 OK\n",
            "Length: 71636786 (68M) [text/csv]\n",
            "Saving to: ‘green_tripdata_2018-04.csv’\n",
            "\n",
            "green_tripdata_2018 100%[===================>]  68.32M  28.8MB/s    in 2.4s    \n",
            "\n",
            "2018-12-10 15:13:34 (28.8 MB/s) - ‘green_tripdata_2018-04.csv’ saved [71636786/71636786]\n",
            "\n",
            "--2018-12-10 15:13:34--  https://s3.amazonaws.com/nyc-tlc/trip+data/green_tripdata_2018-05.csv\n",
            "Resolving s3.amazonaws.com (s3.amazonaws.com)... 52.216.99.37\n",
            "Connecting to s3.amazonaws.com (s3.amazonaws.com)|52.216.99.37|:443... connected.\n",
            "HTTP request sent, awaiting response... 200 OK\n",
            "Length: 71376136 (68M) [text/csv]\n",
            "Saving to: ‘green_tripdata_2018-05.csv’\n",
            "\n",
            "green_tripdata_2018 100%[===================>]  68.07M  35.2MB/s    in 1.9s    \n",
            "\n",
            "2018-12-10 15:13:37 (35.2 MB/s) - ‘green_tripdata_2018-05.csv’ saved [71376136/71376136]\n",
            "\n"
          ],
          "name": "stdout"
        }
      ]
    },
    {
      "metadata": {
        "id": "1o6E2jveluto",
        "colab_type": "code",
        "outputId": "d6a27225-50f1-402f-b336-33aba22bffe1",
        "colab": {
          "base_uri": "https://localhost:8080/",
          "height": 235
        }
      },
      "cell_type": "code",
      "source": [
        "#!wget https://s3.amazonaws.com/nyc-tlc/misc/taxi+_zone_lookup.csv\n",
        "data_tLookup = spark.read.csv(\"taxi+_zone_lookup.csv\", header=True, inferSchema=True)\n",
        "\n",
        "# data_tLookup = spark.read.csv('taxi _zone_lookup (1).csv', header = \"true\")\n",
        "data_tLookupPU = data_tLookup.select(col(\"LocationID\").alias(\"PULocationID\"), \n",
        "                                       col(\"Borough\").alias(\"PUBorough\"), \n",
        "                                       col(\"Zone\").alias(\"PUZone\"), \n",
        "                                       col(\"service_zone\").alias(\"PUservice_zone\"))\n",
        "#data_tLookupPU.show(5)\n",
        "data_tLookupDO = data_tLookup.select(col(\"LocationID\").alias(\"DOLocationID\"), \n",
        "                                       col(\"Borough\").alias(\"DOBorough\"), \n",
        "                                       col(\"Zone\").alias(\"DOZone\"), \n",
        "                                       col(\"service_zone\").alias(\"DOservice_zone\"))\n",
        "#data_tLookupDO.show(5)\n",
        "data_ymarchjoined = data_ymarch.join(data_tLookupPU, \"PULocationID\", \"outer\")\n",
        "data_ymarchjoined = data_ymarchjoined.join(data_tLookupDO, \"DOLocationID\", \"outer\")\n",
        "data_ymarchjoined.show(3)\n"
      ],
      "execution_count": 0,
      "outputs": [
        {
          "output_type": "error",
          "ename": "NameError",
          "evalue": "ignored",
          "traceback": [
            "\u001b[0;31m---------------------------------------------------------------------------\u001b[0m",
            "\u001b[0;31mNameError\u001b[0m                                 Traceback (most recent call last)",
            "\u001b[0;32m<ipython-input-9-3cf2ad4ffb13>\u001b[0m in \u001b[0;36m<module>\u001b[0;34m()\u001b[0m\n\u001b[1;32m     12\u001b[0m                                        col(\"service_zone\").alias(\"DOservice_zone\"))\n\u001b[1;32m     13\u001b[0m \u001b[0;31m#data_tLookupDO.show(5)\u001b[0m\u001b[0;34m\u001b[0m\u001b[0;34m\u001b[0m\u001b[0;34m\u001b[0m\u001b[0m\n\u001b[0;32m---> 14\u001b[0;31m \u001b[0mdata_ymarchjoined\u001b[0m \u001b[0;34m=\u001b[0m \u001b[0mdata_ymarch\u001b[0m\u001b[0;34m.\u001b[0m\u001b[0mjoin\u001b[0m\u001b[0;34m(\u001b[0m\u001b[0mdata_tLookupPU\u001b[0m\u001b[0;34m,\u001b[0m \u001b[0;34m\"PULocationID\"\u001b[0m\u001b[0;34m,\u001b[0m \u001b[0;34m\"outer\"\u001b[0m\u001b[0;34m)\u001b[0m\u001b[0;34m\u001b[0m\u001b[0;34m\u001b[0m\u001b[0m\n\u001b[0m\u001b[1;32m     15\u001b[0m \u001b[0mdata_ymarchjoined\u001b[0m \u001b[0;34m=\u001b[0m \u001b[0mdata_ymarchjoined\u001b[0m\u001b[0;34m.\u001b[0m\u001b[0mjoin\u001b[0m\u001b[0;34m(\u001b[0m\u001b[0mdata_tLookupDO\u001b[0m\u001b[0;34m,\u001b[0m \u001b[0;34m\"DOLocationID\"\u001b[0m\u001b[0;34m,\u001b[0m \u001b[0;34m\"outer\"\u001b[0m\u001b[0;34m)\u001b[0m\u001b[0;34m\u001b[0m\u001b[0;34m\u001b[0m\u001b[0m\n\u001b[1;32m     16\u001b[0m \u001b[0mdata_ymarchjoined\u001b[0m\u001b[0;34m.\u001b[0m\u001b[0mshow\u001b[0m\u001b[0;34m(\u001b[0m\u001b[0;36m3\u001b[0m\u001b[0;34m)\u001b[0m\u001b[0;34m\u001b[0m\u001b[0;34m\u001b[0m\u001b[0m\n",
            "\u001b[0;31mNameError\u001b[0m: name 'data_ymarch' is not defined"
          ]
        }
      ]
    },
    {
      "metadata": {
        "id": "yVb2AfG6mDUn",
        "colab_type": "code",
        "outputId": "6f769b77-a4f9-4aa1-f6b8-6b993ead8e6e",
        "colab": {
          "base_uri": "https://localhost:8080/",
          "height": 183
        }
      },
      "cell_type": "code",
      "source": [
        "taxi_lookup.show(5)\n",
        "taxi_lookup.groupBy('Borough').count().show()"
      ],
      "execution_count": 0,
      "outputs": [
        {
          "output_type": "error",
          "ename": "NameError",
          "evalue": "ignored",
          "traceback": [
            "\u001b[0;31m---------------------------------------------------------------------------\u001b[0m",
            "\u001b[0;31mNameError\u001b[0m                                 Traceback (most recent call last)",
            "\u001b[0;32m<ipython-input-10-ca6ba2dd0734>\u001b[0m in \u001b[0;36m<module>\u001b[0;34m()\u001b[0m\n\u001b[0;32m----> 1\u001b[0;31m \u001b[0mtaxi_lookup\u001b[0m\u001b[0;34m.\u001b[0m\u001b[0mshow\u001b[0m\u001b[0;34m(\u001b[0m\u001b[0;36m5\u001b[0m\u001b[0;34m)\u001b[0m\u001b[0;34m\u001b[0m\u001b[0;34m\u001b[0m\u001b[0m\n\u001b[0m\u001b[1;32m      2\u001b[0m \u001b[0mtaxi_lookup\u001b[0m\u001b[0;34m.\u001b[0m\u001b[0mgroupBy\u001b[0m\u001b[0;34m(\u001b[0m\u001b[0;34m'Borough'\u001b[0m\u001b[0;34m)\u001b[0m\u001b[0;34m.\u001b[0m\u001b[0mcount\u001b[0m\u001b[0;34m(\u001b[0m\u001b[0;34m)\u001b[0m\u001b[0;34m.\u001b[0m\u001b[0mshow\u001b[0m\u001b[0;34m(\u001b[0m\u001b[0;34m)\u001b[0m\u001b[0;34m\u001b[0m\u001b[0;34m\u001b[0m\u001b[0m\n",
            "\u001b[0;31mNameError\u001b[0m: name 'taxi_lookup' is not defined"
          ]
        }
      ]
    },
    {
      "metadata": {
        "id": "dd2U-3kXP3nO",
        "colab_type": "code",
        "outputId": "45e59d75-81fa-46b8-e311-ea9567d7e6d0",
        "colab": {
          "base_uri": "https://localhost:8080/",
          "height": 35
        }
      },
      "cell_type": "code",
      "source": [
        "\n",
        "print(spark.version)"
      ],
      "execution_count": 0,
      "outputs": [
        {
          "output_type": "stream",
          "text": [
            "2.4.0\n"
          ],
          "name": "stdout"
        }
      ]
    },
    {
      "metadata": {
        "id": "-VCoe0QyKPMc",
        "colab_type": "code",
        "colab": {}
      },
      "cell_type": "code",
      "source": [
        "green = spark.read.csv(\"green_tripdata_2018-04.csv\", header=True, inferSchema=True)\n",
        "green2 = spark.read.csv(\"green_tripdata_2018-05.csv\", header=True, inferSchema=True)"
      ],
      "execution_count": 0,
      "outputs": []
    },
    {
      "metadata": {
        "id": "xVgPQS32e9h1",
        "colab_type": "code",
        "colab": {}
      },
      "cell_type": "code",
      "source": [
        "green = green.union(green2)"
      ],
      "execution_count": 0,
      "outputs": []
    },
    {
      "metadata": {
        "id": "sy0dN8f2naz3",
        "colab_type": "code",
        "colab": {}
      },
      "cell_type": "code",
      "source": [
        "type(green)"
      ],
      "execution_count": 0,
      "outputs": []
    },
    {
      "metadata": {
        "id": "WWMB7PNbKRgF",
        "colab_type": "code",
        "colab": {}
      },
      "cell_type": "code",
      "source": [
        "# Head\n",
        "green.show(5)"
      ],
      "execution_count": 0,
      "outputs": []
    },
    {
      "metadata": {
        "id": "vl9Oo20gQvXJ",
        "colab_type": "code",
        "outputId": "e9b996c0-cdeb-43ac-d468-757fddbc4a15",
        "colab": {
          "base_uri": "https://localhost:8080/",
          "height": 381
        }
      },
      "cell_type": "code",
      "source": [
        "# Check Schema\n",
        "green.printSchema()"
      ],
      "execution_count": 0,
      "outputs": [
        {
          "output_type": "stream",
          "text": [
            "root\n",
            " |-- VendorID: integer (nullable = true)\n",
            " |-- lpep_pickup_datetime: timestamp (nullable = true)\n",
            " |-- lpep_dropoff_datetime: timestamp (nullable = true)\n",
            " |-- store_and_fwd_flag: string (nullable = true)\n",
            " |-- RatecodeID: integer (nullable = true)\n",
            " |-- PULocationID: integer (nullable = true)\n",
            " |-- DOLocationID: integer (nullable = true)\n",
            " |-- passenger_count: integer (nullable = true)\n",
            " |-- trip_distance: double (nullable = true)\n",
            " |-- fare_amount: double (nullable = true)\n",
            " |-- extra: double (nullable = true)\n",
            " |-- mta_tax: double (nullable = true)\n",
            " |-- tip_amount: double (nullable = true)\n",
            " |-- tolls_amount: double (nullable = true)\n",
            " |-- ehail_fee: string (nullable = true)\n",
            " |-- improvement_surcharge: double (nullable = true)\n",
            " |-- total_amount: double (nullable = true)\n",
            " |-- payment_type: integer (nullable = true)\n",
            " |-- trip_type: integer (nullable = true)\n",
            "\n"
          ],
          "name": "stdout"
        }
      ]
    },
    {
      "metadata": {
        "id": "mp05bq-iQvqR",
        "colab_type": "code",
        "outputId": "3aa6e2e3-2f55-4cd4-aa98-66196912aaa0",
        "colab": {
          "base_uri": "https://localhost:8080/",
          "height": 35
        }
      },
      "cell_type": "code",
      "source": [
        "# Dimensions\n",
        "print((green.count(), len(green.columns)))"
      ],
      "execution_count": 0,
      "outputs": [
        {
          "output_type": "stream",
          "text": [
            "(800084, 19)\n"
          ],
          "name": "stdout"
        }
      ]
    },
    {
      "metadata": {
        "id": "OwEbWkq7QvwE",
        "colab_type": "code",
        "outputId": "0058ae6d-47fb-458e-bb03-414d3504a145",
        "colab": {
          "base_uri": "https://localhost:8080/",
          "height": 211
        }
      },
      "cell_type": "code",
      "source": [
        "# Summary Statistics\n",
        "green.describe().show()"
      ],
      "execution_count": 0,
      "outputs": [
        {
          "output_type": "stream",
          "text": [
            "+-------+------------------+------------------+------------------+------------------+------------------+------------------+------------------+------------------+------------------+-------------------+------------------+------------------+---------+---------------------+------------------+------------------+-------------------+\n",
            "|summary|          VendorID|store_and_fwd_flag|        RatecodeID|      PULocationID|      DOLocationID|   passenger_count|     trip_distance|       fare_amount|             extra|            mta_tax|        tip_amount|      tolls_amount|ehail_fee|improvement_surcharge|      total_amount|      payment_type|          trip_type|\n",
            "+-------+------------------+------------------+------------------+------------------+------------------+------------------+------------------+------------------+------------------+-------------------+------------------+------------------+---------+---------------------+------------------+------------------+-------------------+\n",
            "|  count|            800084|            800084|            800084|            800084|            800084|            800084|            800084|            800084|            800084|             800084|            800084|            800084|        0|               800084|            800084|            800084|             800083|\n",
            "|   mean|1.8302565730598288|              null|1.0636745641707621|110.72106428824974|128.90976822433643|1.3648179441158679| 3.089443845896252|13.152169684683082|0.3360552142025088|0.48928503757105507|1.0301304488029739|0.1522000689927682|     null|  0.29374115718041105|15.480621522162258|1.4452557481464445| 1.0157021209049562|\n",
            "| stddev|0.3754074747467724|              null|0.5026854456787128| 74.43709184830057| 76.87969255975317|1.0502955270804253|3.5367114102364416|16.482314109818272|0.3958415710692513|0.12586328729008564| 1.927396872342549|1.1326243715367974|     null|  0.04772223267950167|17.282158644973183|0.5216711297420779|0.12432048753732253|\n",
            "|    min|                 1|                 N|                 1|                 1|                 1|                 0|               0.0|            -200.0|            -25.42|               -0.5|            -100.0|             -5.76|     null|                 -0.3|            -200.0|                 1|                  1|\n",
            "|    max|                 2|                 Y|                99|               265|               265|                 9|             482.8|          10445.84|               4.5|              82.91|            220.15|            513.62|     null|                  0.3|          10528.75|                 5|                  2|\n",
            "+-------+------------------+------------------+------------------+------------------+------------------+------------------+------------------+------------------+------------------+-------------------+------------------+------------------+---------+---------------------+------------------+------------------+-------------------+\n",
            "\n"
          ],
          "name": "stdout"
        }
      ]
    },
    {
      "metadata": {
        "id": "pqP3KVGUhh7P",
        "colab_type": "code",
        "outputId": "7e1c2f35-2fdf-426a-bbc1-a23d0cd233e9",
        "colab": {
          "base_uri": "https://localhost:8080/",
          "height": 488
        }
      },
      "cell_type": "code",
      "source": [
        "# Trips with 0 passengers\n",
        "green.filter(green[\"passenger_count\"]==0).show()"
      ],
      "execution_count": 0,
      "outputs": [
        {
          "output_type": "stream",
          "text": [
            "+--------+--------------------+---------------------+------------------+----------+------------+------------+---------------+-------------+-----------+-----+-------+----------+------------+---------+---------------------+------------+------------+---------+\n",
            "|VendorID|lpep_pickup_datetime|lpep_dropoff_datetime|store_and_fwd_flag|RatecodeID|PULocationID|DOLocationID|passenger_count|trip_distance|fare_amount|extra|mta_tax|tip_amount|tolls_amount|ehail_fee|improvement_surcharge|total_amount|payment_type|trip_type|\n",
            "+--------+--------------------+---------------------+------------------+----------+------------+------------+---------------+-------------+-----------+-----+-------+----------+------------+---------+---------------------+------------+------------+---------+\n",
            "|       1| 2018-04-01 00:21:45|  2018-04-01 00:37:20|                 N|         1|          97|          61|              0|          2.9|       13.0|  0.5|    0.5|       0.0|         0.0|     null|                  0.3|        14.3|           1|        1|\n",
            "|       1| 2018-04-01 00:46:32|  2018-04-01 01:03:26|                 N|         1|          61|          72|              0|          2.2|       12.5|  0.5|    0.5|      2.75|         0.0|     null|                  0.3|       16.55|           1|        1|\n",
            "|       1| 2018-04-01 00:40:38|  2018-04-01 00:48:54|                 N|         1|         168|         167|              0|          1.9|        8.5|  0.5|    0.5|       0.0|         0.0|     null|                  0.3|         9.8|           3|        1|\n",
            "|       1| 2018-04-01 01:20:27|  2018-04-01 01:20:41|                 N|         1|         188|         188|              0|          2.2|        2.5|  0.5|    0.5|       0.0|         0.0|     null|                  0.3|         3.8|           3|        1|\n",
            "|       1| 2018-04-01 01:46:21|  2018-04-01 01:52:30|                 N|         1|          61|         225|              0|          1.0|        6.0|  0.5|    0.5|       0.0|         0.0|     null|                  0.3|         7.3|           2|        1|\n",
            "|       1| 2018-04-01 01:57:32|  2018-04-01 02:00:28|                 N|         1|          61|          61|              0|          0.4|        4.0|  0.5|    0.5|       0.0|         0.0|     null|                  0.3|         5.3|           2|        1|\n",
            "|       1| 2018-04-01 02:43:14|  2018-04-01 02:55:03|                 N|         1|          97|         225|              0|          2.7|       11.5|  0.5|    0.5|       3.0|         0.0|     null|                  0.3|        15.8|           1|        1|\n",
            "|       1| 2018-04-01 09:36:36|  2018-04-01 09:37:32|                 N|         1|          17|          17|              0|          0.4|        3.0|  0.0|    0.5|       0.0|         0.0|     null|                  0.3|         3.8|           2|        1|\n",
            "|       1| 2018-04-01 10:10:44|  2018-04-01 10:13:15|                 N|         1|         177|         177|              0|          0.4|        4.0|  0.0|    0.5|       0.0|         0.0|     null|                  0.3|         4.8|           2|        1|\n",
            "|       1| 2018-04-01 11:01:12|  2018-04-01 11:07:00|                 N|         1|         145|         145|              0|          0.8|        5.5|  0.0|    0.5|      1.25|         0.0|     null|                  0.3|        7.55|           1|        1|\n",
            "|       1| 2018-04-01 11:07:37|  2018-04-01 11:13:46|                 N|         1|          74|          41|              0|          0.9|        6.0|  0.0|    0.5|       0.0|         0.0|     null|                  0.3|         6.8|           2|        1|\n",
            "|       1| 2018-04-01 11:58:43|  2018-04-01 12:04:06|                 N|         1|          74|          41|              0|          1.0|        6.0|  0.0|    0.5|       1.0|         0.0|     null|                  0.3|         7.8|           1|        1|\n",
            "|       1| 2018-04-01 13:51:49|  2018-04-01 14:01:07|                 N|         1|          76|          35|              0|          1.3|        7.5|  0.0|    0.5|      1.25|         0.0|     null|                  0.3|        9.55|           1|        1|\n",
            "|       1| 2018-04-01 13:08:00|  2018-04-01 13:20:24|                 N|         1|          74|         151|              0|          2.5|       10.5|  0.0|    0.5|      2.25|         0.0|     null|                  0.3|       13.55|           1|        1|\n",
            "|       2| 2018-04-01 14:44:53|  2018-04-01 15:04:31|                 N|         5|         195|          17|              0|         4.41|       30.0|  0.0|    0.0|       2.0|         0.0|     null|                  0.0|        32.0|           1|        2|\n",
            "|       1| 2018-04-01 14:27:43|  2018-04-01 14:54:34|                 N|         1|          42|          50|              0|          6.5|       24.5|  0.0|    0.5|      7.55|         0.0|     null|                  0.3|       32.85|           1|        1|\n",
            "|       1| 2018-04-01 14:11:23|  2018-04-01 14:12:07|                 N|         5|          75|          75|              0|          0.2|        0.0|  0.0|    0.0|       0.0|         0.0|     null|                  0.0|         0.0|           4|        2|\n",
            "|       2| 2018-04-01 15:39:22|  2018-04-01 16:10:52|                 N|         5|         195|          75|              0|        11.49|       70.0|  0.0|    0.0|      40.0|         0.0|     null|                  0.0|       110.0|           1|        2|\n",
            "|       1| 2018-04-01 15:52:27|  2018-04-01 15:55:15|                 N|         1|          17|          17|              0|          1.1|        3.5|  0.0|    0.5|       0.0|         0.0|     null|                  0.3|         4.3|           4|        1|\n",
            "|       1| 2018-04-01 15:57:03|  2018-04-01 16:04:29|                 N|         1|          17|         188|              0|          1.5|        7.0|  0.0|    0.5|       0.0|         0.0|     null|                  0.3|         7.8|           2|        1|\n",
            "+--------+--------------------+---------------------+------------------+----------+------------+------------+---------------+-------------+-----------+-----+-------+----------+------------+---------+---------------------+------------+------------+---------+\n",
            "only showing top 20 rows\n",
            "\n"
          ],
          "name": "stdout"
        }
      ]
    },
    {
      "metadata": {
        "id": "8YLlxUVnjKWr",
        "colab_type": "code",
        "outputId": "2b5c2fe8-28df-45b6-d9d9-0ec34b75d8a2",
        "colab": {
          "base_uri": "https://localhost:8080/",
          "height": 35
        }
      },
      "cell_type": "code",
      "source": [
        "# Drop column with all NULL values\n",
        "green = green.drop(\"ehail_fee\")\n",
        "type(green)\n",
        "#green.na.drop().show()\n",
        "\n",
        "# Filter out null values\n",
        "green = green.filter(green.trip_type.isNotNull())\n",
        "print((green.count(), len(green.columns)))"
      ],
      "execution_count": 0,
      "outputs": [
        {
          "output_type": "stream",
          "text": [
            "(800083, 18)\n"
          ],
          "name": "stdout"
        }
      ]
    },
    {
      "metadata": {
        "id": "TiI3FHpDLvC9",
        "colab_type": "text"
      },
      "cell_type": "markdown",
      "source": [
        "### Create new column Duration(in minutes)"
      ]
    },
    {
      "metadata": {
        "id": "FyqW3cNbJC9C",
        "colab_type": "code",
        "colab": {}
      },
      "cell_type": "code",
      "source": [
        "from pyspark.sql import functions as F\n",
        "timeFmt = \"yyyy-MM-dd'T'HH:mm:ss.SSS\"\n",
        "timeDiff = (F.unix_timestamp('lpep_dropoff_datetime', format=timeFmt)\n",
        "            - F.unix_timestamp('lpep_pickup_datetime', format=timeFmt))\n",
        "green = green.withColumn(\"Duration\", timeDiff/60)"
      ],
      "execution_count": 0,
      "outputs": []
    },
    {
      "metadata": {
        "id": "nJV3MRDtMnrc",
        "colab_type": "text"
      },
      "cell_type": "markdown",
      "source": [
        "### Cleaning up the newly created column DURATION\n",
        "### Checking the inter quartile range of the duration column"
      ]
    },
    {
      "metadata": {
        "id": "EVFPrp9mMW4w",
        "colab_type": "code",
        "outputId": "7c56b471-8ae6-44ad-b7dc-a50dcc55eb2c",
        "colab": {
          "base_uri": "https://localhost:8080/",
          "height": 35
        }
      },
      "cell_type": "code",
      "source": [
        "cols = ['duration']\n",
        "bounds = {}\n",
        "for col in cols:\n",
        " quantiles = green.approxQuantile(\n",
        "     col, [0.25, 0.75], 0.05\n",
        " )\n",
        " IQR = quantiles[1] - quantiles[0]\n",
        " bounds[col] = [\n",
        "     quantiles[0] - 1.5 * IQR,\n",
        "     quantiles[1] + 1.5 * IQR\n",
        " ]\n",
        "bounds"
      ],
      "execution_count": 0,
      "outputs": [
        {
          "output_type": "execute_result",
          "data": {
            "text/plain": [
              "{'duration': [-11.574999999999998, 35.69166666666666]}"
            ]
          },
          "metadata": {
            "tags": []
          },
          "execution_count": 19
        }
      ]
    },
    {
      "metadata": {
        "id": "vYroZa2cNKI5",
        "colab_type": "text"
      },
      "cell_type": "markdown",
      "source": [
        "### Eliminating the rows which are less than or equal to 0 and more than 35.69 minutes"
      ]
    },
    {
      "metadata": {
        "id": "CzEEBoevMffD",
        "colab_type": "code",
        "colab": {}
      },
      "cell_type": "code",
      "source": [
        "green = green.filter((green[\"Duration\"]  > 0) & (green[\"Duration\"] < bounds['duration'][1]))"
      ],
      "execution_count": 0,
      "outputs": []
    },
    {
      "metadata": {
        "id": "c-Gh2QB7JUkY",
        "colab_type": "code",
        "outputId": "7f6cc66f-b73a-4d38-f971-c0eecd1ce6e0",
        "colab": {
          "base_uri": "https://localhost:8080/",
          "height": 228
        }
      },
      "cell_type": "code",
      "source": [
        "### Head ###\n",
        "green.show(5)"
      ],
      "execution_count": 0,
      "outputs": [
        {
          "output_type": "stream",
          "text": [
            "+--------+--------------------+---------------------+------------------+----------+------------+------------+---------------+-------------+-----------+-----+-------+----------+------------+---------------------+------------+------------+---------+------------------+\n",
            "|VendorID|lpep_pickup_datetime|lpep_dropoff_datetime|store_and_fwd_flag|RatecodeID|PULocationID|DOLocationID|passenger_count|trip_distance|fare_amount|extra|mta_tax|tip_amount|tolls_amount|improvement_surcharge|total_amount|payment_type|trip_type|          Duration|\n",
            "+--------+--------------------+---------------------+------------------+----------+------------+------------+---------------+-------------+-----------+-----+-------+----------+------------+---------------------+------------+------------+---------+------------------+\n",
            "|       2| 2018-04-01 00:55:44|  2018-04-01 01:01:33|                 N|         1|          80|         256|              1|         0.91|        6.0|  0.5|    0.5|       0.0|         0.0|                  0.3|         7.3|           2|        1| 5.816666666666666|\n",
            "|       2| 2018-04-01 00:16:07|  2018-04-01 00:37:02|                 N|         1|           7|          95|              1|         5.12|       18.0|  0.5|    0.5|       2.0|         0.0|                  0.3|        21.3|           1|        1|20.916666666666668|\n",
            "|       2| 2018-04-01 00:44:27|  2018-04-01 00:55:41|                 N|         1|         196|         173|              1|         2.09|        9.5|  0.5|    0.5|       0.0|         0.0|                  0.3|        10.8|           2|        1|11.233333333333333|\n",
            "|       2| 2018-04-01 00:45:54|  2018-04-01 00:56:11|                 N|         1|         166|         238|              1|         1.31|        8.5|  0.5|    0.5|      1.96|         0.0|                  0.3|       11.76|           1|        1|10.283333333333333|\n",
            "|       2| 2018-04-01 00:20:35|  2018-04-01 00:24:43|                 N|         1|          17|          49|              1|         0.74|        5.0|  0.5|    0.5|       0.0|         0.0|                  0.3|         6.3|           2|        1| 4.133333333333334|\n",
            "+--------+--------------------+---------------------+------------------+----------+------------+------------+---------------+-------------+-----------+-----+-------+----------+------------+---------------------+------------+------------+---------+------------------+\n",
            "only showing top 5 rows\n",
            "\n"
          ],
          "name": "stdout"
        }
      ]
    },
    {
      "metadata": {
        "id": "RIO4ilGxoCxj",
        "colab_type": "code",
        "outputId": "b275893b-99f2-412d-dd34-63ebdf9c999c",
        "colab": {
          "base_uri": "https://localhost:8080/",
          "height": 505
        }
      },
      "cell_type": "code",
      "source": [
        "type(green.na.drop().show())"
      ],
      "execution_count": 0,
      "outputs": [
        {
          "output_type": "stream",
          "text": [
            "+--------+--------------------+---------------------+------------------+----------+------------+------------+---------------+-------------+-----------+-----+-------+----------+------------+---------------------+------------+------------+---------+------------------+\n",
            "|VendorID|lpep_pickup_datetime|lpep_dropoff_datetime|store_and_fwd_flag|RatecodeID|PULocationID|DOLocationID|passenger_count|trip_distance|fare_amount|extra|mta_tax|tip_amount|tolls_amount|improvement_surcharge|total_amount|payment_type|trip_type|          Duration|\n",
            "+--------+--------------------+---------------------+------------------+----------+------------+------------+---------------+-------------+-----------+-----+-------+----------+------------+---------------------+------------+------------+---------+------------------+\n",
            "|       2| 2018-04-01 00:55:44|  2018-04-01 01:01:33|                 N|         1|          80|         256|              1|         0.91|        6.0|  0.5|    0.5|       0.0|         0.0|                  0.3|         7.3|           2|        1| 5.816666666666666|\n",
            "|       2| 2018-04-01 00:16:07|  2018-04-01 00:37:02|                 N|         1|           7|          95|              1|         5.12|       18.0|  0.5|    0.5|       2.0|         0.0|                  0.3|        21.3|           1|        1|20.916666666666668|\n",
            "|       2| 2018-04-01 00:44:27|  2018-04-01 00:55:41|                 N|         1|         196|         173|              1|         2.09|        9.5|  0.5|    0.5|       0.0|         0.0|                  0.3|        10.8|           2|        1|11.233333333333333|\n",
            "|       2| 2018-04-01 00:45:54|  2018-04-01 00:56:11|                 N|         1|         166|         238|              1|         1.31|        8.5|  0.5|    0.5|      1.96|         0.0|                  0.3|       11.76|           1|        1|10.283333333333333|\n",
            "|       2| 2018-04-01 00:20:35|  2018-04-01 00:24:43|                 N|         1|          17|          49|              1|         0.74|        5.0|  0.5|    0.5|       0.0|         0.0|                  0.3|         6.3|           2|        1| 4.133333333333334|\n",
            "|       2| 2018-04-01 00:28:24|  2018-04-01 00:50:39|                 N|         1|          49|         170|              1|         7.98|       25.0|  0.5|    0.5|      5.26|         0.0|                  0.3|       31.56|           1|        1|             22.25|\n",
            "|       1| 2018-04-01 00:28:05|  2018-04-01 00:43:12|                 N|         1|          74|         239|              2|          3.1|       13.0|  0.5|    0.5|       2.7|         0.0|                  0.3|        17.0|           1|        1|15.116666666666667|\n",
            "|       1| 2018-04-01 00:02:53|  2018-04-01 00:18:04|                 N|         1|         255|          83|              1|          4.6|       16.0|  0.5|    0.5|      3.45|         0.0|                  0.3|       20.75|           1|        1|15.183333333333334|\n",
            "|       1| 2018-04-01 00:40:55|  2018-04-01 00:44:11|                 N|         1|         255|         112|              1|          0.7|        4.5|  0.5|    0.5|      1.15|         0.0|                  0.3|        6.95|           1|        1|3.2666666666666666|\n",
            "|       1| 2018-04-01 00:46:58|  2018-04-01 00:55:32|                 N|         1|         255|          80|              1|          1.5|        8.0|  0.5|    0.5|       2.3|         0.0|                  0.3|        11.6|           1|        1| 8.566666666666666|\n",
            "|       2| 2018-04-01 00:57:32|  2018-04-01 01:11:09|                 N|         1|         112|         146|              5|         2.76|       12.0|  0.5|    0.5|       0.0|         0.0|                  0.3|        13.3|           2|        1|13.616666666666667|\n",
            "|       2| 2018-04-01 00:49:05|  2018-04-01 01:04:33|                 N|         1|          41|         239|              1|         3.16|       13.5|  0.5|    0.5|       0.0|         0.0|                  0.3|        14.8|           1|        1|15.466666666666667|\n",
            "|       2| 2018-04-01 00:14:33|  2018-04-01 00:20:13|                 N|         1|          97|         225|              2|         1.68|        7.0|  0.5|    0.5|       0.0|         0.0|                  0.3|         8.3|           2|        1| 5.666666666666667|\n",
            "|       2| 2018-04-01 00:31:33|  2018-04-01 00:42:12|                 N|         1|          97|         181|              2|         2.05|        9.5|  0.5|    0.5|       0.0|         0.0|                  0.3|        10.8|           2|        1|             10.65|\n",
            "|       2| 2018-04-01 00:09:05|  2018-04-01 00:16:10|                 N|         1|         255|          80|              1|         1.05|        6.0|  0.5|    0.5|       0.0|         0.0|                  0.3|         7.3|           2|        1| 7.083333333333333|\n",
            "|       2| 2018-04-01 00:29:55|  2018-04-01 00:44:34|                 N|         1|         255|          36|              1|         2.34|       11.0|  0.5|    0.5|      1.08|         0.0|                  0.3|       13.38|           1|        1|             14.65|\n",
            "|       2| 2018-04-01 00:53:16|  2018-04-01 01:01:58|                 N|         1|          37|          36|              1|         1.36|        7.0|  0.5|    0.5|       0.0|         0.0|                  0.3|         8.3|           2|        1|               8.7|\n",
            "|       1| 2018-04-01 00:21:32|  2018-04-01 00:27:07|                 N|         1|           7|           7|              1|          0.9|        5.5|  0.5|    0.5|       0.0|         0.0|                  0.3|         6.8|           2|        1| 5.583333333333333|\n",
            "|       1| 2018-04-01 00:29:17|  2018-04-01 00:45:33|                 N|         1|           7|         226|              1|          2.6|       12.5|  0.5|    0.5|       0.0|         0.0|                  0.3|        13.8|           2|        1|16.266666666666666|\n",
            "|       2| 2018-04-01 00:05:49|  2018-04-01 00:10:18|                 N|         1|          75|          74|              1|         0.73|        5.0|  0.5|    0.5|      1.26|         0.0|                  0.3|        7.56|           1|        1| 4.483333333333333|\n",
            "+--------+--------------------+---------------------+------------------+----------+------------+------------+---------------+-------------+-----------+-----+-------+----------+------------+---------------------+------------+------------+---------+------------------+\n",
            "only showing top 20 rows\n",
            "\n"
          ],
          "name": "stdout"
        },
        {
          "output_type": "execute_result",
          "data": {
            "text/plain": [
              "NoneType"
            ]
          },
          "metadata": {
            "tags": []
          },
          "execution_count": 22
        }
      ]
    },
    {
      "metadata": {
        "id": "4WBASplOL-_r",
        "colab_type": "text"
      },
      "cell_type": "markdown",
      "source": [
        "### Create new columns from the pickup  time column"
      ]
    },
    {
      "metadata": {
        "id": "jSosueGA3ttk",
        "colab_type": "code",
        "colab": {}
      },
      "cell_type": "code",
      "source": [
        "from pyspark.sql.functions import date_format\n",
        "date = green.select('lpep_pickup_datetime', date_format('lpep_pickup_datetime', 'H').alias('hour'), date_format('lpep_pickup_datetime', 'd').alias('date'), date_format('lpep_pickup_datetime', 'u').alias('day_number'), date_format('lpep_pickup_datetime', 'E').alias('day'))\n",
        "#green.show()\n",
        "date = date.withColumn('is_weekend',when((date.day == 'Sun') | (date.day == 'Sat'),1).otherwise(0))\n",
        "# Convert string to numeric\n",
        "\n",
        "from pyspark.sql.types import IntegerType\n",
        "date = date.withColumn(\"hour\", date[\"hour\"].cast(IntegerType()))\n",
        "date = date.withColumn(\"date\", date[\"date\"].cast(IntegerType()))\n",
        "date = date.withColumn(\"day_number\", date[\"day_number\"].cast(IntegerType()))\n",
        "date = date.withColumn(\"is_weekend\", date[\"is_weekend\"].cast(IntegerType()))"
      ],
      "execution_count": 0,
      "outputs": []
    },
    {
      "metadata": {
        "id": "0czpm3VnMP2A",
        "colab_type": "text"
      },
      "cell_type": "markdown",
      "source": [
        "### Create the dataframe with all the new features."
      ]
    },
    {
      "metadata": {
        "id": "sSgsGHBy3y68",
        "colab_type": "code",
        "outputId": "e03c47b2-76fc-4069-d49a-c92acbcab7e6",
        "colab": {
          "base_uri": "https://localhost:8080/",
          "height": 1389
        }
      },
      "cell_type": "code",
      "source": [
        "from pyspark.sql.functions import monotonically_increasing_id\n",
        "green1 =green.drop(\"lpep_pickup_datetime\")\n",
        "green1 = green1.withColumn(\"id\", monotonically_increasing_id())\n",
        "#df = df.drop(\"address\")\n",
        "date1 = date.withColumn(\"id\", monotonically_increasing_id())\n",
        "\n",
        "green1.show()\n",
        "\n",
        "date1.show()\n",
        "\n",
        "joined1 = date1.join(green1, \"id\", \"outer\").drop(\"id\")\n",
        "\n",
        "joined1.show()"
      ],
      "execution_count": 0,
      "outputs": [
        {
          "output_type": "stream",
          "text": [
            "+--------+---------------------+------------------+----------+------------+------------+---------------+-------------+-----------+-----+-------+----------+------------+---------------------+------------+------------+---------+------------------+---+\n",
            "|VendorID|lpep_dropoff_datetime|store_and_fwd_flag|RatecodeID|PULocationID|DOLocationID|passenger_count|trip_distance|fare_amount|extra|mta_tax|tip_amount|tolls_amount|improvement_surcharge|total_amount|payment_type|trip_type|          Duration| id|\n",
            "+--------+---------------------+------------------+----------+------------+------------+---------------+-------------+-----------+-----+-------+----------+------------+---------------------+------------+------------+---------+------------------+---+\n",
            "|       2|  2018-04-01 01:01:33|                 N|         1|          80|         256|              1|         0.91|        6.0|  0.5|    0.5|       0.0|         0.0|                  0.3|         7.3|           2|        1| 5.816666666666666|  0|\n",
            "|       2|  2018-04-01 00:37:02|                 N|         1|           7|          95|              1|         5.12|       18.0|  0.5|    0.5|       2.0|         0.0|                  0.3|        21.3|           1|        1|20.916666666666668|  1|\n",
            "|       2|  2018-04-01 00:55:41|                 N|         1|         196|         173|              1|         2.09|        9.5|  0.5|    0.5|       0.0|         0.0|                  0.3|        10.8|           2|        1|11.233333333333333|  2|\n",
            "|       2|  2018-04-01 00:56:11|                 N|         1|         166|         238|              1|         1.31|        8.5|  0.5|    0.5|      1.96|         0.0|                  0.3|       11.76|           1|        1|10.283333333333333|  3|\n",
            "|       2|  2018-04-01 00:24:43|                 N|         1|          17|          49|              1|         0.74|        5.0|  0.5|    0.5|       0.0|         0.0|                  0.3|         6.3|           2|        1| 4.133333333333334|  4|\n",
            "|       2|  2018-04-01 00:50:39|                 N|         1|          49|         170|              1|         7.98|       25.0|  0.5|    0.5|      5.26|         0.0|                  0.3|       31.56|           1|        1|             22.25|  5|\n",
            "|       1|  2018-04-01 00:43:12|                 N|         1|          74|         239|              2|          3.1|       13.0|  0.5|    0.5|       2.7|         0.0|                  0.3|        17.0|           1|        1|15.116666666666667|  6|\n",
            "|       1|  2018-04-01 00:18:04|                 N|         1|         255|          83|              1|          4.6|       16.0|  0.5|    0.5|      3.45|         0.0|                  0.3|       20.75|           1|        1|15.183333333333334|  7|\n",
            "|       1|  2018-04-01 00:44:11|                 N|         1|         255|         112|              1|          0.7|        4.5|  0.5|    0.5|      1.15|         0.0|                  0.3|        6.95|           1|        1|3.2666666666666666|  8|\n",
            "|       1|  2018-04-01 00:55:32|                 N|         1|         255|          80|              1|          1.5|        8.0|  0.5|    0.5|       2.3|         0.0|                  0.3|        11.6|           1|        1| 8.566666666666666|  9|\n",
            "|       2|  2018-04-01 01:11:09|                 N|         1|         112|         146|              5|         2.76|       12.0|  0.5|    0.5|       0.0|         0.0|                  0.3|        13.3|           2|        1|13.616666666666667| 10|\n",
            "|       2|  2018-04-01 01:04:33|                 N|         1|          41|         239|              1|         3.16|       13.5|  0.5|    0.5|       0.0|         0.0|                  0.3|        14.8|           1|        1|15.466666666666667| 11|\n",
            "|       2|  2018-04-01 00:20:13|                 N|         1|          97|         225|              2|         1.68|        7.0|  0.5|    0.5|       0.0|         0.0|                  0.3|         8.3|           2|        1| 5.666666666666667| 12|\n",
            "|       2|  2018-04-01 00:42:12|                 N|         1|          97|         181|              2|         2.05|        9.5|  0.5|    0.5|       0.0|         0.0|                  0.3|        10.8|           2|        1|             10.65| 13|\n",
            "|       2|  2018-04-01 00:16:10|                 N|         1|         255|          80|              1|         1.05|        6.0|  0.5|    0.5|       0.0|         0.0|                  0.3|         7.3|           2|        1| 7.083333333333333| 14|\n",
            "|       2|  2018-04-01 00:44:34|                 N|         1|         255|          36|              1|         2.34|       11.0|  0.5|    0.5|      1.08|         0.0|                  0.3|       13.38|           1|        1|             14.65| 15|\n",
            "|       2|  2018-04-01 01:01:58|                 N|         1|          37|          36|              1|         1.36|        7.0|  0.5|    0.5|       0.0|         0.0|                  0.3|         8.3|           2|        1|               8.7| 16|\n",
            "|       1|  2018-04-01 00:27:07|                 N|         1|           7|           7|              1|          0.9|        5.5|  0.5|    0.5|       0.0|         0.0|                  0.3|         6.8|           2|        1| 5.583333333333333| 17|\n",
            "|       1|  2018-04-01 00:45:33|                 N|         1|           7|         226|              1|          2.6|       12.5|  0.5|    0.5|       0.0|         0.0|                  0.3|        13.8|           2|        1|16.266666666666666| 18|\n",
            "|       2|  2018-04-01 00:10:18|                 N|         1|          75|          74|              1|         0.73|        5.0|  0.5|    0.5|      1.26|         0.0|                  0.3|        7.56|           1|        1| 4.483333333333333| 19|\n",
            "+--------+---------------------+------------------+----------+------------+------------+---------------+-------------+-----------+-----+-------+----------+------------+---------------------+------------+------------+---------+------------------+---+\n",
            "only showing top 20 rows\n",
            "\n",
            "+--------------------+----+----+----------+---+----------+---+\n",
            "|lpep_pickup_datetime|hour|date|day_number|day|is_weekend| id|\n",
            "+--------------------+----+----+----------+---+----------+---+\n",
            "| 2018-04-01 00:55:44|   0|   1|         7|Sun|         1|  0|\n",
            "| 2018-04-01 00:16:07|   0|   1|         7|Sun|         1|  1|\n",
            "| 2018-04-01 00:44:27|   0|   1|         7|Sun|         1|  2|\n",
            "| 2018-04-01 00:45:54|   0|   1|         7|Sun|         1|  3|\n",
            "| 2018-04-01 00:20:35|   0|   1|         7|Sun|         1|  4|\n",
            "| 2018-04-01 00:28:24|   0|   1|         7|Sun|         1|  5|\n",
            "| 2018-04-01 00:28:05|   0|   1|         7|Sun|         1|  6|\n",
            "| 2018-04-01 00:02:53|   0|   1|         7|Sun|         1|  7|\n",
            "| 2018-04-01 00:40:55|   0|   1|         7|Sun|         1|  8|\n",
            "| 2018-04-01 00:46:58|   0|   1|         7|Sun|         1|  9|\n",
            "| 2018-04-01 00:57:32|   0|   1|         7|Sun|         1| 10|\n",
            "| 2018-04-01 00:49:05|   0|   1|         7|Sun|         1| 11|\n",
            "| 2018-04-01 00:14:33|   0|   1|         7|Sun|         1| 12|\n",
            "| 2018-04-01 00:31:33|   0|   1|         7|Sun|         1| 13|\n",
            "| 2018-04-01 00:09:05|   0|   1|         7|Sun|         1| 14|\n",
            "| 2018-04-01 00:29:55|   0|   1|         7|Sun|         1| 15|\n",
            "| 2018-04-01 00:53:16|   0|   1|         7|Sun|         1| 16|\n",
            "| 2018-04-01 00:21:32|   0|   1|         7|Sun|         1| 17|\n",
            "| 2018-04-01 00:29:17|   0|   1|         7|Sun|         1| 18|\n",
            "| 2018-04-01 00:05:49|   0|   1|         7|Sun|         1| 19|\n",
            "+--------------------+----+----+----------+---+----------+---+\n",
            "only showing top 20 rows\n",
            "\n",
            "+--------------------+----+----+----------+---+----------+--------+---------------------+------------------+----------+------------+------------+---------------+-------------+-----------+-----+-------+----------+------------+---------------------+------------+------------+---------+-------------------+\n",
            "|lpep_pickup_datetime|hour|date|day_number|day|is_weekend|VendorID|lpep_dropoff_datetime|store_and_fwd_flag|RatecodeID|PULocationID|DOLocationID|passenger_count|trip_distance|fare_amount|extra|mta_tax|tip_amount|tolls_amount|improvement_surcharge|total_amount|payment_type|trip_type|           Duration|\n",
            "+--------------------+----+----+----------+---+----------+--------+---------------------+------------------+----------+------------+------------+---------------+-------------+-----------+-----+-------+----------+------------+---------------------+------------+------------+---------+-------------------+\n",
            "| 2018-04-01 00:50:49|   0|   1|         7|Sun|         1|       2|  2018-04-01 01:02:15|                 N|         1|         181|          33|              5|         1.75|        9.5|  0.5|    0.5|       0.0|         0.0|                  0.3|        10.8|           2|        1| 11.433333333333334|\n",
            "| 2018-04-01 00:27:07|   0|   1|         7|Sun|         1|       2|  2018-04-01 01:02:47|                 N|         1|          97|         122|              1|         14.3|       42.0|  0.5|    0.5|       2.0|         0.0|                  0.3|        45.3|           1|        1| 35.666666666666664|\n",
            "| 2018-04-01 00:12:24|   0|   1|         7|Sun|         1|       1|  2018-04-01 00:18:35|                 N|         1|         181|         181|              1|          1.2|        6.5|  0.5|    0.5|      1.55|         0.0|                  0.3|        9.35|           1|        1|  6.183333333333334|\n",
            "| 2018-04-01 00:45:23|   0|   1|         7|Sun|         1|       2|  2018-04-01 00:55:36|                 N|         1|         196|          92|              1|         4.32|       14.5|  0.5|    0.5|       0.0|         0.0|                  0.3|        15.8|           1|        1| 10.216666666666667|\n",
            "| 2018-04-01 01:03:18|   1|   1|         7|Sun|         1|       2|  2018-04-01 01:23:16|                 N|         1|           7|          82|              5|         5.31|       19.5|  0.5|    0.5|       0.0|         0.0|                  0.3|        20.8|           2|        1| 19.966666666666665|\n",
            "| 2018-04-01 01:39:02|   1|   1|         7|Sun|         1|       1|  2018-04-01 01:45:53|                 N|         1|           7|         179|              1|          1.3|        7.0|  0.5|    0.5|       0.0|         0.0|                  0.3|         8.3|           2|        1|               6.85|\n",
            "| 2018-04-01 01:10:05|   1|   1|         7|Sun|         1|       1|  2018-04-01 01:18:09|                 N|         1|          25|         228|              1|          1.7|        8.0|  0.5|    0.5|      2.75|         0.0|                  0.3|       12.05|           1|        1|  8.066666666666666|\n",
            "| 2018-04-01 01:27:20|   1|   1|         7|Sun|         1|       2|  2018-04-01 01:40:25|                 N|         1|         255|          17|              1|         2.81|       12.0|  0.5|    0.5|      2.66|         0.0|                  0.3|       15.96|           1|        1| 13.083333333333334|\n",
            "| 2018-04-01 01:10:31|   1|   1|         7|Sun|         1|       1|  2018-04-01 01:18:18|                 N|         1|         255|         148|              1|          2.1|        9.0|  0.5|    0.5|       0.0|         0.0|                  0.3|        10.3|           2|        1|  7.783333333333333|\n",
            "| 2018-04-01 01:31:52|   1|   1|         7|Sun|         1|       2|  2018-04-01 01:43:45|                 N|         1|           7|         223|              1|         1.96|        9.5|  0.5|    0.5|       0.0|         0.0|                  0.3|        10.8|           2|        1| 11.883333333333333|\n",
            "| 2018-04-01 01:44:24|   1|   1|         7|Sun|         1|       2|  2018-04-01 01:50:17|                 N|         1|         255|         256|              1|         0.84|        5.5|  0.5|    0.5|       1.0|         0.0|                  0.3|         7.8|           1|        1|  5.883333333333334|\n",
            "| 2018-04-01 02:19:02|   2|   1|         7|Sun|         1|       2|  2018-04-01 02:19:06|                 N|         5|          65|          65|              1|         0.02|      -25.0|  0.0|    0.0|       0.0|         0.0|                  0.0|       -25.0|           3|        2|0.06666666666666667|\n",
            "| 2018-04-01 02:48:34|   2|   1|         7|Sun|         1|       2|  2018-04-01 02:50:32|                 N|         1|         166|         152|              1|         0.55|        4.0|  0.5|    0.5|      1.06|         0.0|                  0.3|        6.36|           1|        1| 1.9666666666666666|\n",
            "| 2018-04-01 02:24:20|   2|   1|         7|Sun|         1|       2|  2018-04-01 02:44:05|                 N|         1|           7|          41|              5|         5.69|       20.0|  0.5|    0.5|       0.0|        5.76|                  0.3|       27.06|           2|        1|              19.75|\n",
            "| 2018-04-01 02:52:06|   2|   1|         7|Sun|         1|       2|  2018-04-01 03:01:15|                 N|         1|         129|          82|              1|         1.93|        8.5|  0.5|    0.5|       0.0|         0.0|                  0.3|         9.8|           2|        1|               9.15|\n",
            "| 2018-04-01 02:18:48|   2|   1|         7|Sun|         1|       2|  2018-04-01 02:22:52|                 N|         1|          80|          80|              2|          0.6|        5.0|  0.5|    0.5|      1.26|         0.0|                  0.3|        7.56|           1|        1|  4.066666666666666|\n",
            "| 2018-04-01 03:36:42|   3|   1|         7|Sun|         1|       2|  2018-04-01 03:53:34|                 N|         1|          37|         148|              1|         4.31|       16.0|  0.5|    0.5|       0.0|         0.0|                  0.3|        17.3|           2|        1| 16.866666666666667|\n",
            "| 2018-04-01 03:29:35|   3|   1|         7|Sun|         1|       2|  2018-04-01 03:50:09|                 N|         1|         129|         258|              1|         5.46|       19.0|  0.5|    0.5|       0.0|         0.0|                  0.3|        20.3|           2|        1| 20.566666666666666|\n",
            "| 2018-04-01 04:28:04|   4|   1|         7|Sun|         1|       2|  2018-04-01 04:39:07|                 N|         1|           7|         157|              1|         3.38|       12.5|  0.5|    0.5|       0.0|         0.0|                  0.3|        13.8|           2|        1|              11.05|\n",
            "| 2018-04-01 04:55:43|   4|   1|         7|Sun|         1|       2|  2018-04-01 04:58:37|                 N|         1|          75|         236|              1|         0.96|        5.0|  0.5|    0.5|       0.0|         0.0|                  0.3|         6.3|           2|        1|                2.9|\n",
            "+--------------------+----+----+----------+---+----------+--------+---------------------+------------------+----------+------------+------------+---------------+-------------+-----------+-----+-------+----------+------------+---------------------+------------+------------+---------+-------------------+\n",
            "only showing top 20 rows\n",
            "\n"
          ],
          "name": "stdout"
        }
      ]
    },
    {
      "metadata": {
        "id": "1on2rJ4qClUs",
        "colab_type": "code",
        "colab": {}
      },
      "cell_type": "code",
      "source": [
        "#joined1 = joined1.withColumn(\"speed\",(trip_distance*60)/(Duration))\n",
        "#"
      ],
      "execution_count": 0,
      "outputs": []
    },
    {
      "metadata": {
        "id": "JXt6NeskG4jT",
        "colab_type": "code",
        "outputId": "bc6a6fed-851a-4ef6-b2a4-1131150bbc17",
        "colab": {
          "base_uri": "https://localhost:8080/",
          "height": 468
        }
      },
      "cell_type": "code",
      "source": [
        "joined1.printSchema()"
      ],
      "execution_count": 0,
      "outputs": [
        {
          "output_type": "stream",
          "text": [
            "root\n",
            " |-- lpep_pickup_datetime: timestamp (nullable = true)\n",
            " |-- hour: integer (nullable = true)\n",
            " |-- date: integer (nullable = true)\n",
            " |-- day_number: integer (nullable = true)\n",
            " |-- day: string (nullable = true)\n",
            " |-- is_weekend: integer (nullable = true)\n",
            " |-- VendorID: integer (nullable = true)\n",
            " |-- lpep_dropoff_datetime: timestamp (nullable = true)\n",
            " |-- store_and_fwd_flag: string (nullable = true)\n",
            " |-- RatecodeID: integer (nullable = true)\n",
            " |-- PULocationID: integer (nullable = true)\n",
            " |-- DOLocationID: integer (nullable = true)\n",
            " |-- passenger_count: integer (nullable = true)\n",
            " |-- trip_distance: double (nullable = true)\n",
            " |-- fare_amount: double (nullable = true)\n",
            " |-- extra: double (nullable = true)\n",
            " |-- mta_tax: double (nullable = true)\n",
            " |-- tip_amount: double (nullable = true)\n",
            " |-- tolls_amount: double (nullable = true)\n",
            " |-- improvement_surcharge: double (nullable = true)\n",
            " |-- total_amount: double (nullable = true)\n",
            " |-- payment_type: integer (nullable = true)\n",
            " |-- trip_type: integer (nullable = true)\n",
            " |-- Duration: double (nullable = true)\n",
            "\n"
          ],
          "name": "stdout"
        }
      ]
    },
    {
      "metadata": {
        "colab_type": "code",
        "id": "hdY8LBnsDr3X",
        "colab": {}
      },
      "cell_type": "code",
      "source": [
        "from pyspark.sql import functions as F\n",
        "#timeFmt = \"yyyy-MM-dd'T'HH:mm:ss.SSS\"\n",
        "#speed = joined1('trip_distance')/joined1('Duration')\n",
        "joined1 = joined1.withColumn(\"speed\", joined1['trip_distance']*60/joined1['Duration'])"
      ],
      "execution_count": 0,
      "outputs": []
    },
    {
      "metadata": {
        "id": "4qLCwpj3G6z8",
        "colab_type": "code",
        "colab": {}
      },
      "cell_type": "code",
      "source": [
        "from pyspark.sql.functions import first, collect_list, mean"
      ],
      "execution_count": 0,
      "outputs": []
    },
    {
      "metadata": {
        "id": "Efsax3bDEque",
        "colab_type": "code",
        "outputId": "ee7bbb41-1379-423f-e26b-5ed1e6cde134",
        "colab": {
          "base_uri": "https://localhost:8080/",
          "height": 225
        }
      },
      "cell_type": "code",
      "source": [
        "from pyspark.sql.functions import desc\n",
        "from pyspark.sql.functions import first, collect_list, mean\n",
        "joined1.groupby(\"day\",\"day_number\").agg(mean(\"speed\")).sort(\"day_number\").show()\n"
      ],
      "execution_count": 0,
      "outputs": [
        {
          "output_type": "stream",
          "text": [
            "+---+----------+------------------+\n",
            "|day|day_number|        avg(speed)|\n",
            "+---+----------+------------------+\n",
            "|Mon|         1| 13.96913522279846|\n",
            "|Tue|         2|13.901412944640546|\n",
            "|Wed|         3|13.530943043674382|\n",
            "|Thu|         4|13.061760001856083|\n",
            "|Fri|         5|12.948408255236734|\n",
            "|Sat|         6|14.080714343514876|\n",
            "|Sun|         7|15.332125816241554|\n",
            "+---+----------+------------------+\n",
            "\n"
          ],
          "name": "stdout"
        }
      ]
    },
    {
      "metadata": {
        "id": "ekZPd2ey0pUW",
        "colab_type": "code",
        "colab": {}
      },
      "cell_type": "code",
      "source": [
        "#Define robust function to automatically add annotated labels on bar plots.\n",
        "#Inspiration from http://composition.al/blog/2015/11/29/a-better-way-to-add-labels-to-bar-charts-with-matplotlib/\n",
        "\n",
        "def annotate_labels(ax, labels_list, **kwargs):\n",
        "    \"\"\"\n",
        "    Function to automatically add labels on bar charts.\n",
        "      It takes a plot axis, an ordered list of labels, and text kwargs.\n",
        "    \"\"\"\n",
        "    \n",
        "    # Get y-axis height to calculate label position from.\n",
        "    (y_bottom, y_top) = ax.get_ylim()\n",
        "    y_height = y_top - y_bottom\n",
        "    \n",
        "    rects = ax.patches\n",
        "\n",
        "    for rect, label in zip(rects, labels_list):\n",
        "        height = rect.get_height()\n",
        "        p_height = (height / y_height) # Fraction of axis height taken up by this rectangle\n",
        "        label_position = height + (y_height * 0.01)\n",
        "        \n",
        "        # If we can fit the label above the column, do that;\n",
        "        # otherwise, put it inside the column (or else, change ylim)\n",
        "        #if p_height > 0.95:\n",
        "        #    label_position = height - (y_height * 0.05)\n",
        "        #else:\n",
        "        #    label_position = height + (y_height * 0.01)\n",
        "\n",
        "        ax.text(rect.get_x() + rect.get_width()/2., label_position, label, kwargs)\n",
        "    return None"
      ],
      "execution_count": 0,
      "outputs": []
    },
    {
      "metadata": {
        "id": "zuv-inrsxdOj",
        "colab_type": "code",
        "colab": {}
      },
      "cell_type": "code",
      "source": [
        "# Create dataframe with frequencies with day\n",
        "speed_plot = joined1.groupby(\"day\",\"day_number\").agg(mean(\"speed\")).sort(\"day_number\")\n",
        "# Create dataframe with frequencies with date\n",
        "\n",
        "# Convert the dataframe to pandas dataframe\n",
        "speed_plot = speed_plot.toPandas()\n",
        "\n",
        "# Drop the column day_number\n",
        "speed_plot=speed_plot.drop('day_number',axis=1)\n",
        "speed_plot = speed_plot.set_index('day')"
      ],
      "execution_count": 0,
      "outputs": []
    },
    {
      "metadata": {
        "id": "ZkPUKMZ_yau5",
        "colab_type": "code",
        "colab": {}
      },
      "cell_type": "code",
      "source": [
        "speed_plot\n"
      ],
      "execution_count": 0,
      "outputs": []
    },
    {
      "metadata": {
        "id": "gcUTH2n5z39a",
        "colab_type": "code",
        "outputId": "a4570aa3-db4d-4555-8101-952c042f736d",
        "colab": {
          "base_uri": "https://localhost:8080/",
          "height": 452
        }
      },
      "cell_type": "code",
      "source": [
        "# Create dataframe with frequencies with day\n",
        "speed_plot = joined1.groupby(\"day\",\"day_number\").agg(mean(\"speed\")).sort(\"day_number\")\n",
        "# Create dataframe with frequencies with date\n",
        "\n",
        "# Convert the dataframe to pandas dataframe\n",
        "speed_plot = speed_plot.toPandas()\n",
        "\n",
        "# Drop the column day_number\n",
        "speed_plot=speed_plot.drop('day_number',axis=1)\n",
        "speed_plot = speed_plot.set_index('day')\n",
        "\n",
        "weekday_labels = ['Monday', 'Tuesday', 'Wednesday', 'Thursday', 'Friday', 'Saturday', 'Sunday']\n",
        "# month_labels = ['Sep', 'Oct', 'Nov', 'Dec', 'Jan', 'Feb', 'Mar', 'Apr', 'May', 'Jun', 'Jul', 'Aug']\n",
        "\n",
        "fig = plt.figure()\n",
        "labels_list = speed_plot.values.round(1)\n",
        "kwargs = {'fontsize': 12, 'ha':'center', 'va': 'bottom', 'weight': 'bold', 'color': 'navy'}\n",
        "\n",
        "ax = speed_plot.plot(kind='bar', rot = 0, figsize = (12, 6), fontsize = 12, edgecolor='yellow', linewidth=1)\n",
        "ax.set_xticklabels(weekday_labels, weight='bold')\n",
        "ax.set_axis_bgcolor('#F9F9F9')\n",
        "ax.get_yaxis().set_ticks([])\n",
        "annotate_labels(ax, labels_list, **kwargs)\n",
        "\n",
        "plt.xlabel('')\n",
        "plt.ylabel('Median Trip Speed (mph)', fontsize = 14)\n",
        "plt.tick_params(labelsize=14)\n",
        "plt.title('Which day of the week has the worst traffic?', fontsize = 18, color='navy')\n",
        "plt.show()"
      ],
      "execution_count": 0,
      "outputs": [
        {
          "output_type": "stream",
          "text": [
            "/usr/local/lib/python3.6/dist-packages/ipykernel_launcher.py:20: MatplotlibDeprecationWarning: The set_axis_bgcolor function was deprecated in version 2.0. Use set_facecolor instead.\n"
          ],
          "name": "stderr"
        },
        {
          "output_type": "display_data",
          "data": {
            "text/plain": [
              "<matplotlib.figure.Figure at 0x7fd9a8259e80>"
            ]
          },
          "metadata": {
            "tags": []
          }
        },
        {
          "output_type": "display_data",
          "data": {
            "image/png": "[encoded data removed]",
            "text/plain": [
              "<matplotlib.figure.Figure at 0x7fd9cad40908>"
            ]
          },
          "metadata": {
            "tags": []
          }
        }
      ]
    },
    {
      "metadata": {
        "id": "QEourTvwJVJa",
        "colab_type": "code",
        "outputId": "852e47a6-744a-43ca-bda8-9d5dc066d60c",
        "colab": {
          "base_uri": "https://localhost:8080/",
          "height": 536
        }
      },
      "cell_type": "code",
      "source": [
        "# Create dataframe with frequencies with day\n",
        "speed_plot = joined1.groupby(\"day\",\"day_number\").agg(mean(\"speed\")).sort(\"day_number\")\n",
        "# Create dataframe with frequencies with date\n",
        "\n",
        "# Convert the dataframe to pandas dataframe\n",
        "speed_plot = speed_plot.toPandas()\n",
        "print(speed_plot.head(7))\n",
        "# Drop the column day_number\n",
        "speed_plot=speed_plot.drop('day_number',axis=1)\n",
        "\n",
        "# Set the day column as index\n",
        "speed_plot = speed_plot.set_index('day')\n",
        "\n",
        "# Plot the box plot\n",
        "speed_plot.T.squeeze().plot.bar()\n",
        "\n",
        "\n",
        "#Labeling the graph properly\n",
        "plt.title('title', fontsize=20)\n",
        "plt.xlim(0, 700)\n",
        "plt.xlabel('Count of jobs', fontsize=15)\n",
        "plt.ylabel('Occupations', fontsize=15)\n",
        "plt.grid()\n",
        "#plt.barh(housing_df)\n",
        "speed_plot.T.squeeze().plot.bar()\n",
        "#housing_df.job.value_counts().plot.barh()\n",
        "plt.show()\n",
        "\n"
      ],
      "execution_count": 0,
      "outputs": [
        {
          "output_type": "stream",
          "text": [
            "   day  day_number  avg(speed)\n",
            "0  Mon           1   13.969135\n",
            "1  Tue           2   13.901413\n",
            "2  Wed           3   13.530943\n",
            "3  Thu           4   13.061760\n",
            "4  Fri           5   12.948408\n",
            "5  Sat           6   14.080714\n",
            "6  Sun           7   15.332126\n"
          ],
          "name": "stdout"
        },
        {
          "output_type": "display_data",
          "data": {
            "image/png": "[encoded data removed]",
            "text/plain": [
              "<matplotlib.figure.Figure at 0x7fd9a5152b38>"
            ]
          },
          "metadata": {
            "tags": []
          }
        }
      ]
    },
    {
      "metadata": {
        "id": "rE2gu2OrPEno",
        "colab_type": "code",
        "outputId": "686cad48-2908-40cb-85e1-1cd35c13f3c9",
        "colab": {
          "base_uri": "https://localhost:8080/",
          "height": 35
        }
      },
      "cell_type": "code",
      "source": [
        "print((joined1.count(), len(joined1.columns)))"
      ],
      "execution_count": 0,
      "outputs": [
        {
          "output_type": "stream",
          "text": [
            "(743556, 25)\n"
          ],
          "name": "stdout"
        }
      ]
    },
    {
      "metadata": {
        "id": "rFc_hYSVBCBh",
        "colab_type": "code",
        "colab": {}
      },
      "cell_type": "code",
      "source": [
        "#df_viz[(df_viz.weekday >= 5)].groupby('hour')['trip_distance'].median()\n",
        "trip_plot_w = joined1.filter(joined1[\"day_number\"]>5).groupby(\"hour\").agg(mean(\"trip_distance\")).sort(\"hour\")\n",
        "# Create dataframe with frequencies with date\n",
        "#trip_plot_w.show()\n",
        "\n",
        "# Convert the dataframe to pandas dataframe\n",
        "trip_plot_w = trip_plot_w.toPandas()\n",
        "#print(trip_plot.head(7))\n",
        "\n",
        "# Set the day column as index\n",
        "trip_plot_w = trip_plot_w.set_index('hour')\n",
        "#print(trip_plot_W.head(7))"
      ],
      "execution_count": 0,
      "outputs": []
    },
    {
      "metadata": {
        "id": "UItUchoWJg9L",
        "colab_type": "code",
        "outputId": "eab72e10-0d8d-474f-c8ed-47bdaeb8b3d3",
        "colab": {
          "base_uri": "https://localhost:8080/",
          "height": 411
        }
      },
      "cell_type": "code",
      "source": [
        "trip_plot_w = joined1.filter(joined1[\"day_number\"]>5).groupby(\"hour\").agg(mean(\"trip_distance\")).sort(\"hour\")\n",
        "# Convert the dataframe to pandas dataframe\n",
        "trip_plot_w = trip_plot_w.toPandas()\n",
        "# Set the day column as index\n",
        "trip_plot_w = trip_plot_w.set_index('hour').T.squeeze()\n",
        "\n",
        "trip_plot_nw = joined1.filter(joined1[\"day_number\"]<6).groupby(\"hour\").agg(mean(\"trip_distance\")).sort(\"hour\")\n",
        "# Convert the dataframe to pandas dataframe\n",
        "trip_plot_nw = trip_plot_nw.toPandas()\n",
        "# Set the day column as index\n",
        "trip_plot_nw = trip_plot_nw.set_index('hour').T.squeeze()\n",
        "\n",
        "\n",
        "plt.figure(figsize = (16,6))\n",
        "\n",
        "plt.subplot(1,2,1)\n",
        "trip_plot_w.plot(kind='bar', rot = 0, fontsize=14)\n",
        "plt.ylim(0, 5)\n",
        "plt.tick_params(labelsize=12)\n",
        "plt.ylabel('Median Trip Distance (miles)', fontsize=14, weight='bold', color='navy')\n",
        "plt.xlabel('Hour', fontsize=14, weight='bold', color='navy')\n",
        "plt.title('Weekend', fontsize=14, weight='bold', color='navy')\n",
        "\n",
        "plt.subplot(1,2,2)\n",
        "trip_plot_nw.plot(kind='bar', rot = 0)\n",
        "plt.tick_params(labelsize=12)\n",
        "plt.xlabel('Hour', fontsize=14, weight='bold', color='navy')\n",
        "plt.title('Weekdays', fontsize=14, weight='bold', color='navy')\n",
        "\n",
        "plt.show()"
      ],
      "execution_count": 0,
      "outputs": [
        {
          "output_type": "display_data",
          "data": {
            "image/png": "[encoded data removed]",
            "text/plain": [
              "<matplotlib.figure.Figure at 0x7fd9a79e9518>"
            ]
          },
          "metadata": {
            "tags": []
          }
        }
      ]
    },
    {
      "metadata": {
        "id": "G1F_3s36faqi",
        "colab_type": "code",
        "outputId": "07681967-2242-4279-f077-ae62d95307b7",
        "colab": {
          "base_uri": "https://localhost:8080/",
          "height": 415
        }
      },
      "cell_type": "code",
      "source": [
        "#df_plt7 = df_viz[df_viz.weekday < 5].groupby('hour')['trip_mph_avg']\n",
        "avg_day_speed = joined1.filter(joined1[\"day_number\"]<6).groupby(\"hour\").agg(mean(\"speed\")).sort(\"hour\")\n",
        "\n",
        "# Convert the dataframe to pandas dataframe\n",
        "avg_day_speed = avg_day_speed.toPandas()\n",
        "# Set the day column as index\n",
        "avg_day_speed = avg_day_speed.set_index('hour').T.squeeze()\n",
        "\n",
        "\n",
        "#Plot Peak Hour Median Trip Average Speed During Weekdays:\n",
        "\n",
        "plt.figure(figsize =(14, 6))\n",
        "kwargs = {'fontsize': 12, 'ha':'center', 'va': 'top', 'color': 'navy', 'weight': 'bold'}\n",
        "\n",
        "#weekdays only: rush hour traffic 7-9 + 16-18\n",
        "ax = avg_day_speed.plot(marker = 'o', color = 'navy')\n",
        "\n",
        "for x, y in zip(avg_day_speed.index, avg_day_speed.values):\n",
        "    ax.annotate('{:.0f}'.format(y), xy=(x, y), xytext= (0, 24), textcoords='offset points', **kwargs)\n",
        "\n",
        "ax.set_facecolor('#F9F9F9')\n",
        "ax.get_yaxis().set_ticks([]) #hide tick labels on y-axis\n",
        "plt.fill([7,9,9,7], [0,0,30,30], 'cyan', alpha=0.2)\n",
        "plt.fill([16,18,18,16], [0,0,30,30], 'cyan', alpha=0.2)\n",
        "plt.xticks(range(24))\n",
        "plt.xlabel('Hour', fontsize=14)\n",
        "plt.ylabel('Trip Average Speed', fontsize=14)\n",
        "plt.ylim(5, 30)\n",
        "plt.xlim(-0.5, 23.5)\n",
        "plt.tick_params(labelsize=14)\n",
        "plt.title('Weekday Average Speed per Hour of the Day - Highlight for Peak Traffic', fontsize = 16, color='navy')\n",
        "plt.show()"
      ],
      "execution_count": 0,
      "outputs": [
        {
          "output_type": "display_data",
          "data": {
            "image/png": "[encoded data removed]",
            "text/plain": [
              "<matplotlib.figure.Figure at 0x7fd9a4f88dd8>"
            ]
          },
          "metadata": {
            "tags": []
          }
        }
      ]
    },
    {
      "metadata": {
        "id": "WJb-Tj2L00dr",
        "colab_type": "code",
        "colab": {}
      },
      "cell_type": "code",
      "source": [
        "count_by_hour_1 = joined1.filter((joined1[\"day_number\"] < 6) & (joined1[\"trip_distance\"]>=5)).groupby(\"hour\").agg(count(\"trip_distance\")).sort(\"hour\")\n",
        "# Convert the dataframe to pandas dataframe\n",
        "count_by_hour_1 = count_by_hour_1.toPandas().set_index('hour').T.squeeze()\n",
        "\n",
        "count_by_hour_2 = joined1.filter((joined1[\"day_number\"] < 6) & (joined1[\"trip_distance\"]<5)).groupby(\"hour\").agg(count(\"trip_distance\")).sort(\"hour\")\n",
        "# Convert the dataframe to pandas dataframe\n",
        "count_by_hour_2 = count_by_hour_2.toPandas().set_index('hour').T.squeeze()\n",
        "\n",
        "count_by_hour_3 = joined1.filter((joined1[\"day_number\"] > 5) & (joined1[\"trip_distance\"]>=5)).groupby(\"hour\").agg(count(\"trip_distance\")).sort(\"hour\")\n",
        "# Convert the dataframe to pandas dataframe\n",
        "count_by_hour_3 = count_by_hour_3.toPandas().set_index('hour').T.squeeze()\n",
        "\n",
        "count_by_hour_4 = joined1.filter((joined1[\"day_number\"] > 5) & (joined1[\"trip_distance\"]<5)).groupby(\"hour\").agg(count(\"trip_distance\")).sort(\"hour\")\n",
        "# Convert the dataframe to pandas dataframe\n",
        "count_by_hour_4 = count_by_hour_4.toPandas().set_index('hour').T.squeeze()"
      ],
      "execution_count": 0,
      "outputs": []
    },
    {
      "metadata": {
        "id": "6SHB92CJ6FNK",
        "colab_type": "code",
        "outputId": "1adac6e7-044b-471d-9b6a-6b31aa66847c",
        "colab": {
          "base_uri": "https://localhost:8080/",
          "height": 735
        }
      },
      "cell_type": "code",
      "source": [
        "def thousands_format(x, pos):\n",
        "    \"\"\"\n",
        "    Args are the value and tick position. \n",
        "    Returns number of thousands with one decimal, and K in lieu of 3 zeros.\n",
        "    \"\"\"\n",
        "    return '{:.0f}{}'.format(x * 1e-3, 'K') #old syntax: '%1.0fK' % (x * 1e-3)\n",
        "  \n",
        "from matplotlib.ticker import FuncFormatter #Call formatter function to format tick values\n",
        "from matplotlib.patches import Ellipse #Draw ellipse\n",
        "fig = plt.figure(figsize = (16,12))\n",
        "formatter = FuncFormatter(thousands_format)\n",
        "\n",
        "\n",
        "plt.subplot(2,2,1)\n",
        "ax1 = count_by_hour_1.plot(kind='bar', rot = 0)\n",
        "ax1.yaxis.set_major_formatter(formatter)\n",
        "ellipse = Ellipse(xy=(3, 500), width=4, height=500, edgecolor='red', fc='None', lw=1.5)\n",
        "ax1.add_patch(ellipse)\n",
        "plt.xlabel('Hour', fontsize=14, weight='bold', color='navy')\n",
        "plt.ylabel('Demand (number of trips)', fontsize=14, weight='bold', color='navy')\n",
        "#plt.ylim(0, 1400000)\n",
        "plt.title('Weekday, 5 miles or more', fontsize=14, weight='bold', color='navy')\n",
        "\n",
        "plt.subplot(2,2,2)\n",
        "ax2 = count_by_hour_2.plot(kind='bar', rot = 0)\n",
        "ax2.yaxis.set_major_formatter(formatter)\n",
        "ellipse = Ellipse(xy=(4, 2500), width=4, height=4000, edgecolor='red', fc='None', lw=1.5)\n",
        "ax2.add_patch(ellipse)\n",
        "plt.xlabel('Hour', fontsize=14, weight='bold', color='navy')\n",
        "plt.title('Weekday, less than 5 miles', fontsize=14, weight='bold', color='navy')\n",
        "\n",
        "plt.subplot(2,2,3)\n",
        "ax3 = count_by_hour_3.plot(kind='bar', rot = 0)\n",
        "#df_viz[(df_viz.weekday >= 5) & (df_viz.trip_distance >= 5)].\\groupby('hour')['trip_distance'].count().plot(kind='bar', rot = 0)\n",
        "ax3.yaxis.set_major_formatter(formatter)\n",
        "ellipse = Ellipse(xy=(5.5, 750), width=4, height=500, edgecolor='red', fc='None', lw=1.5)\n",
        "ax3.add_patch(ellipse)\n",
        "plt.xlabel('Hour', fontsize=14, weight='bold', color='navy')\n",
        "plt.ylabel('Demand (number of trips)', fontsize=14, weight='bold', color='navy')\n",
        "#plt.ylim(0, 500000)\n",
        "plt.title('Weekend, 5 miles or more', fontsize=14, weight='bold', color='navy')\n",
        "\n",
        "plt.subplot(2,2,4)\n",
        "ax4 = count_by_hour_4.plot(kind='bar', rot = 0)\n",
        "ax4.yaxis.set_major_formatter(formatter)\n",
        "ellipse = Ellipse(xy=(6, 2500), width=4, height=2000, edgecolor='red', fc='None', lw=1.5)\n",
        "ax4.add_patch(ellipse)\n",
        "plt.xlabel('Hour', fontsize=14, weight='bold', color='navy')\n",
        "plt.title('Weekend, less than 5 miles', fontsize=14, weight='bold', color='navy')\n",
        "\n",
        "\n",
        "fig.subplots_adjust(hspace=0.4)\n",
        "plt.show()\n",
        "#plot_url = py.plot_mpl(fig)"
      ],
      "execution_count": 0,
      "outputs": [
        {
          "output_type": "display_data",
          "data": {
            "image/png": "[encoded data removed]",
            "text/plain": [
              "<matplotlib.figure.Figure at 0x7fd9a50951d0>"
            ]
          },
          "metadata": {
            "tags": []
          }
        }
      ]
    },
    {
      "metadata": {
        "id": "v_8kkjAXiNVR",
        "colab_type": "code",
        "outputId": "ee4a06a2-ada7-4a6c-b1df-b2e9f89fefa1",
        "colab": {
          "base_uri": "https://localhost:8080/",
          "height": 468
        }
      },
      "cell_type": "code",
      "source": [
        "count_by_hour_4"
      ],
      "execution_count": 0,
      "outputs": [
        {
          "output_type": "execute_result",
          "data": {
            "text/plain": [
              "hour\n",
              "0     1428\n",
              "1      896\n",
              "2      632\n",
              "3      527\n",
              "4      823\n",
              "5     1329\n",
              "6     2143\n",
              "7     2375\n",
              "8     2750\n",
              "9     3559\n",
              "10    3405\n",
              "11    3272\n",
              "12    3378\n",
              "13    2959\n",
              "14    2716\n",
              "15    2307\n",
              "16    2267\n",
              "17    2185\n",
              "18    2743\n",
              "19    3144\n",
              "20    3168\n",
              "21    3351\n",
              "22    3314\n",
              "23    2731\n",
              "Name: count(trip_distance), dtype: int64"
            ]
          },
          "metadata": {
            "tags": []
          },
          "execution_count": 79
        }
      ]
    },
    {
      "metadata": {
        "id": "utKoWEKcMJ0k",
        "colab_type": "text"
      },
      "cell_type": "markdown",
      "source": [
        "### Frequency of Categorical variables"
      ]
    },
    {
      "metadata": {
        "id": "ScXj3yKpQ5-W",
        "colab_type": "code",
        "outputId": "f642bd85-78b2-42b7-8d9a-989ddc5d4383",
        "colab": {
          "base_uri": "https://localhost:8080/",
          "height": 1005
        }
      },
      "cell_type": "code",
      "source": [
        "joined1.groupBy('store_and_fwd_flag').count().show()\n",
        "joined1.groupBy('passenger_count').count().show()\n",
        "joined1.groupBy('trip_type').count().show()\n",
        "joined1.groupBy('RatecodeID').count().show()\n",
        "joined1.groupBy('payment_type').count().show()\n",
        "joined1.groupBy('VendorID').count().show()"
      ],
      "execution_count": 0,
      "outputs": [
        {
          "output_type": "stream",
          "text": [
            "+------------------+------+\n",
            "|store_and_fwd_flag| count|\n",
            "+------------------+------+\n",
            "|                 Y|   999|\n",
            "|                 N|742557|\n",
            "+------------------+------+\n",
            "\n",
            "+---------------+------+\n",
            "|passenger_count| count|\n",
            "+---------------+------+\n",
            "|              1|625897|\n",
            "|              6| 14514|\n",
            "|              3| 12851|\n",
            "|              5| 25143|\n",
            "|              9|     3|\n",
            "|              4|  4200|\n",
            "|              8|    10|\n",
            "|              7|    13|\n",
            "|              2| 59925|\n",
            "|              0|  1000|\n",
            "+---------------+------+\n",
            "\n",
            "+---------+------+\n",
            "|trip_type| count|\n",
            "+---------+------+\n",
            "|        1|732029|\n",
            "|        2| 11527|\n",
            "+---------+------+\n",
            "\n",
            "+----------+------+\n",
            "|RatecodeID| count|\n",
            "+----------+------+\n",
            "|         1|731579|\n",
            "|         6|    10|\n",
            "|         3|   190|\n",
            "|         5| 10676|\n",
            "|         4|   323|\n",
            "|         2|   778|\n",
            "+----------+------+\n",
            "\n",
            "+------------+------+\n",
            "|payment_type| count|\n",
            "+------------+------+\n",
            "|           1|407245|\n",
            "|           3|  3580|\n",
            "|           5|    28|\n",
            "|           4|  2014|\n",
            "|           2|330689|\n",
            "+------------+------+\n",
            "\n",
            "+--------+------+\n",
            "|VendorID| count|\n",
            "+--------+------+\n",
            "|       1|129787|\n",
            "|       2|613769|\n",
            "+--------+------+\n",
            "\n"
          ],
          "name": "stdout"
        }
      ]
    },
    {
      "metadata": {
        "id": "FKCkTGywR17L",
        "colab_type": "text"
      },
      "cell_type": "markdown",
      "source": [
        "### Plot for the rides per day in 31 days"
      ]
    },
    {
      "metadata": {
        "id": "7I6Z68qSRcMg",
        "colab_type": "code",
        "outputId": "04933d1e-14e6-4af1-c7f3-6a37bc0e80e5",
        "colab": {
          "base_uri": "https://localhost:8080/",
          "height": 301
        }
      },
      "cell_type": "code",
      "source": [
        "import pandas\n",
        "\n",
        "# Create dataframe with frequencies with date\n",
        "date_plot = joined1.groupBy('date').count()\n",
        "# Convert the dataframe to pandas dataframe\n",
        "date_plot = date_plot.toPandas()\n",
        "# Set the date column as index\n",
        "date_plot =date_plot.set_index('date')\n",
        "# Sort the dataframe according to inndex\n",
        "date_plot.sort_index(inplace=True)\n",
        "# Plot the box plot\n",
        "date_plot.T.squeeze().plot.bar()"
      ],
      "execution_count": 0,
      "outputs": [
        {
          "output_type": "execute_result",
          "data": {
            "text/plain": [
              "<matplotlib.axes._subplots.AxesSubplot at 0x7fe8fe2c7a90>"
            ]
          },
          "metadata": {
            "tags": []
          },
          "execution_count": 54
        },
        {
          "output_type": "display_data",
          "data": {
            "image/png": "[encoded data removed]",
            "text/plain": [
              "<matplotlib.figure.Figure at 0x7fe8fe1754a8>"
            ]
          },
          "metadata": {
            "tags": []
          }
        }
      ]
    },
    {
      "metadata": {
        "id": "let6VKcZS1S7",
        "colab_type": "text"
      },
      "cell_type": "markdown",
      "source": [
        "### Plot for number of days for each day of a week"
      ]
    },
    {
      "metadata": {
        "id": "4Y-rHogXSC4i",
        "colab_type": "code",
        "outputId": "7f273cb0-9cb5-4343-9a15-4a99f47035c7",
        "colab": {
          "base_uri": "https://localhost:8080/",
          "height": 310
        }
      },
      "cell_type": "code",
      "source": [
        "# Create dataframe with frequencies with day\n",
        "day_plot = joined1.groupBy('day','day_number').count()\n",
        "# Convert the dataframe to pandas dataframe\n",
        "day_plot = day_plot.toPandas()\n",
        "\n",
        "# Sort the dataframe based on the day\n",
        "day_plot.sort_values(\"day_number\", inplace=True)\n",
        "\n",
        "# Drop the column day_number\n",
        "day_plot=day_plot.drop('day_number',axis=1)\n",
        "\n",
        "# Set the day column as index\n",
        "day_plot =day_plot.set_index('day')\n",
        "\n",
        "#day_plot.sort_index(inplace=True)\n",
        "# Plot the box plot\n",
        "day_plot.T.squeeze().plot.bar()"
      ],
      "execution_count": 0,
      "outputs": [
        {
          "output_type": "execute_result",
          "data": {
            "text/plain": [
              "<matplotlib.axes._subplots.AxesSubplot at 0x7fe901979eb8>"
            ]
          },
          "metadata": {
            "tags": []
          },
          "execution_count": 31
        },
        {
          "output_type": "display_data",
          "data": {
            "image/png": "[encoded data removed]",
            "text/plain": [
              "<matplotlib.figure.Figure at 0x7fe8fe480e10>"
            ]
          },
          "metadata": {
            "tags": []
          }
        }
      ]
    },
    {
      "metadata": {
        "id": "hEx1CIV1WGzr",
        "colab_type": "text"
      },
      "cell_type": "markdown",
      "source": [
        "### Number of bookings based on the hour of the day"
      ]
    },
    {
      "metadata": {
        "id": "ae9-YR8YVBiN",
        "colab_type": "code",
        "outputId": "ac3b27fa-14fb-4679-d37f-8cb093e650d0",
        "colab": {
          "base_uri": "https://localhost:8080/",
          "height": 380
        }
      },
      "cell_type": "code",
      "source": [
        "# Create dataframe with frequencies with date\n",
        "hour_plot = joined1.groupBy('hour').count()\n",
        "# Convert the dataframe to pandas dataframe\n",
        "hour_plot = hour_plot.toPandas()\n",
        "# Set the hour column as index\n",
        "hour_plot =hour_plot.set_index('hour')\n",
        "# Sort the dataframe according to inndex\n",
        "hour_plot.sort_index(inplace=True)\n",
        "# Plot the box plot\n",
        "hour_plot.T.squeeze().plot.bar()"
      ],
      "execution_count": 0,
      "outputs": [
        {
          "output_type": "execute_result",
          "data": {
            "text/plain": [
              "<matplotlib.axes._subplots.AxesSubplot at 0x7fd9a5176630>"
            ]
          },
          "metadata": {
            "tags": []
          },
          "execution_count": 35
        },
        {
          "output_type": "display_data",
          "data": {
            "image/png": "[encoded data removed]",
            "text/plain": [
              "<matplotlib.figure.Figure at 0x7fd9a50cc5f8>"
            ]
          },
          "metadata": {
            "tags": []
          }
        }
      ]
    },
    {
      "metadata": {
        "id": "hU7UI7TZYzWO",
        "colab_type": "text"
      },
      "cell_type": "markdown",
      "source": [
        "### Number of bookings based on the hour of the day on weekends"
      ]
    },
    {
      "metadata": {
        "id": "Umcjg5WYWcMI",
        "colab_type": "code",
        "outputId": "73a5d151-199e-4b79-dcc4-5fe79c420d48",
        "colab": {
          "base_uri": "https://localhost:8080/",
          "height": 301
        }
      },
      "cell_type": "code",
      "source": [
        "## df.filter(df[\"age\"]>24)\n",
        "\n",
        "# Create dataframe with frequencies with date\n",
        "hour_plot = joined1.filter(joined1[\"is_weekend\"]== 1)\n",
        "hour_plot = hour_plot.groupBy('hour').count()\n",
        "\n",
        "# Convert the dataframe to pandas dataframe\n",
        "hour_plot = hour_plot.toPandas()\n",
        "# Set the hour column as index\n",
        "hour_plot =hour_plot.set_index('hour')\n",
        "# Sort the dataframe according to inndex\n",
        "hour_plot.sort_index(inplace=True)\n",
        "# Plot the box plot\n",
        "hour_plot.T.squeeze().plot.bar()"
      ],
      "execution_count": 0,
      "outputs": [
        {
          "output_type": "execute_result",
          "data": {
            "text/plain": [
              "<matplotlib.axes._subplots.AxesSubplot at 0x7fe8fe3b62e8>"
            ]
          },
          "metadata": {
            "tags": []
          },
          "execution_count": 33
        },
        {
          "output_type": "display_data",
          "data": {
            "image/png": "[encoded data removed]",
            "text/plain": [
              "<matplotlib.figure.Figure at 0x7fe8fe321ba8>"
            ]
          },
          "metadata": {
            "tags": []
          }
        }
      ]
    },
    {
      "metadata": {
        "id": "476Of-JAY8TB",
        "colab_type": "text"
      },
      "cell_type": "markdown",
      "source": [
        "### Number of bookings based on the hour of the day on weekdays"
      ]
    },
    {
      "metadata": {
        "id": "fLwtUN5vYhuS",
        "colab_type": "code",
        "outputId": "52531e03-4e9b-4d85-bb9d-ca8973fe701d",
        "colab": {
          "base_uri": "https://localhost:8080/",
          "height": 301
        }
      },
      "cell_type": "code",
      "source": [
        "## df.filter(df[\"age\"]>24)\n",
        "\n",
        "# Create dataframe with frequencies with date\n",
        "hour_plot = joined1.filter(joined1[\"is_weekend\"]== 0)\n",
        "hour_plot = hour_plot.groupBy('hour').count()\n",
        "\n",
        "# Convert the dataframe to pandas dataframe\n",
        "hour_plot = hour_plot.toPandas()\n",
        "# Set the hour column as index\n",
        "hour_plot =hour_plot.set_index('hour')\n",
        "# Sort the dataframe according to inndex\n",
        "hour_plot.sort_index(inplace=True)\n",
        "# Plot the box plot\n",
        "hour_plot.T.squeeze().plot.bar()"
      ],
      "execution_count": 0,
      "outputs": [
        {
          "output_type": "execute_result",
          "data": {
            "text/plain": [
              "<matplotlib.axes._subplots.AxesSubplot at 0x7fe8fe21c278>"
            ]
          },
          "metadata": {
            "tags": []
          },
          "execution_count": 34
        },
        {
          "output_type": "display_data",
          "data": {
            "image/png": "[encoded data removed]",
            "text/plain": [
              "<matplotlib.figure.Figure at 0x7fe8fe2c7320>"
            ]
          },
          "metadata": {
            "tags": []
          }
        }
      ]
    },
    {
      "metadata": {
        "id": "bI-etTYvB5EB",
        "colab_type": "code",
        "colab": {}
      },
      "cell_type": "code",
      "source": [
        ""
      ],
      "execution_count": 0,
      "outputs": []
    },
    {
      "metadata": {
        "id": "SAO3LBhPBbRf",
        "colab_type": "code",
        "outputId": "63eec3be-17a8-4dd7-8b3e-c53fd6870ee8",
        "colab": {
          "base_uri": "https://localhost:8080/",
          "height": 1295
        }
      },
      "cell_type": "code",
      "source": [
        "#data.groupby('id').agg({'category':'count','count':'sum'}).withColumnRenamed('count(category)',\"num_category\").show()\n",
        "joined1.groupby('id').agg({'category':'count','count':'sum'}).withColumnRenamed('count(category)',\"num_category\").show()"
      ],
      "execution_count": 0,
      "outputs": [
        {
          "output_type": "error",
          "ename": "AnalysisException",
          "evalue": "ignored",
          "traceback": [
            "\u001b[0;31m---------------------------------------------------------------------------\u001b[0m",
            "\u001b[0;31mPy4JJavaError\u001b[0m                             Traceback (most recent call last)",
            "\u001b[0;32m/content/spark-2.4.0-bin-hadoop2.7/python/pyspark/sql/utils.py\u001b[0m in \u001b[0;36mdeco\u001b[0;34m(*a, **kw)\u001b[0m\n\u001b[1;32m     62\u001b[0m         \u001b[0;32mtry\u001b[0m\u001b[0;34m:\u001b[0m\u001b[0;34m\u001b[0m\u001b[0;34m\u001b[0m\u001b[0m\n\u001b[0;32m---> 63\u001b[0;31m             \u001b[0;32mreturn\u001b[0m \u001b[0mf\u001b[0m\u001b[0;34m(\u001b[0m\u001b[0;34m*\u001b[0m\u001b[0ma\u001b[0m\u001b[0;34m,\u001b[0m \u001b[0;34m**\u001b[0m\u001b[0mkw\u001b[0m\u001b[0;34m)\u001b[0m\u001b[0;34m\u001b[0m\u001b[0;34m\u001b[0m\u001b[0m\n\u001b[0m\u001b[1;32m     64\u001b[0m         \u001b[0;32mexcept\u001b[0m \u001b[0mpy4j\u001b[0m\u001b[0;34m.\u001b[0m\u001b[0mprotocol\u001b[0m\u001b[0;34m.\u001b[0m\u001b[0mPy4JJavaError\u001b[0m \u001b[0;32mas\u001b[0m \u001b[0me\u001b[0m\u001b[0;34m:\u001b[0m\u001b[0;34m\u001b[0m\u001b[0;34m\u001b[0m\u001b[0m\n",
            "\u001b[0;32m/content/spark-2.4.0-bin-hadoop2.7/python/lib/py4j-0.10.7-src.zip/py4j/protocol.py\u001b[0m in \u001b[0;36mget_return_value\u001b[0;34m(answer, gateway_client, target_id, name)\u001b[0m\n\u001b[1;32m    327\u001b[0m                     \u001b[0;34m\"An error occurred while calling {0}{1}{2}.\\n\"\u001b[0m\u001b[0;34m.\u001b[0m\u001b[0;34m\u001b[0m\u001b[0;34m\u001b[0m\u001b[0m\n\u001b[0;32m--> 328\u001b[0;31m                     format(target_id, \".\", name), value)\n\u001b[0m\u001b[1;32m    329\u001b[0m             \u001b[0;32melse\u001b[0m\u001b[0;34m:\u001b[0m\u001b[0;34m\u001b[0m\u001b[0;34m\u001b[0m\u001b[0m\n",
            "\u001b[0;31mPy4JJavaError\u001b[0m: An error occurred while calling o315.agg.\n: org.apache.spark.sql.AnalysisException: Cannot resolve column name \"count\" among (lpep_pickup_datetime, hour, date, day_number, day, is_weekend, VendorID, lpep_dropoff_datetime, store_and_fwd_flag, RatecodeID, PULocationID, DOLocationID, passenger_count, trip_distance, fare_amount, extra, mta_tax, tip_amount, tolls_amount, improvement_surcharge, total_amount, payment_type, trip_type, Duration, speed);\n\tat org.apache.spark.sql.Dataset$$anonfun$resolve$1.apply(Dataset.scala:224)\n\tat org.apache.spark.sql.Dataset$$anonfun$resolve$1.apply(Dataset.scala:224)\n\tat scala.Option.getOrElse(Option.scala:121)\n\tat org.apache.spark.sql.Dataset.resolve(Dataset.scala:223)\n\tat org.apache.spark.sql.Dataset.col(Dataset.scala:1269)\n\tat org.apache.spark.sql.Dataset.apply(Dataset.scala:1236)\n\tat org.apache.spark.sql.RelationalGroupedDataset$$anonfun$agg$2.apply(RelationalGroupedDataset.scala:170)\n\tat org.apache.spark.sql.RelationalGroupedDataset$$anonfun$agg$2.apply(RelationalGroupedDataset.scala:169)\n\tat scala.collection.TraversableLike$$anonfun$map$1.apply(TraversableLike.scala:234)\n\tat scala.collection.TraversableLike$$anonfun$map$1.apply(TraversableLike.scala:234)\n\tat scala.collection.immutable.Map$Map2.foreach(Map.scala:137)\n\tat scala.collection.TraversableLike$class.map(TraversableLike.scala:234)\n\tat scala.collection.AbstractTraversable.map(Traversable.scala:104)\n\tat org.apache.spark.sql.RelationalGroupedDataset.agg(RelationalGroupedDataset.scala:169)\n\tat org.apache.spark.sql.RelationalGroupedDataset.agg(RelationalGroupedDataset.scala:188)\n\tat sun.reflect.NativeMethodAccessorImpl.invoke0(Native Method)\n\tat sun.reflect.NativeMethodAccessorImpl.invoke(NativeMethodAccessorImpl.java:62)\n\tat sun.reflect.DelegatingMethodAccessorImpl.invoke(DelegatingMethodAccessorImpl.java:43)\n\tat java.lang.reflect.Method.invoke(Method.java:498)\n\tat py4j.reflection.MethodInvoker.invoke(MethodInvoker.java:244)\n\tat py4j.reflection.ReflectionEngine.invoke(ReflectionEngine.java:357)\n\tat py4j.Gateway.invoke(Gateway.java:282)\n\tat py4j.commands.AbstractCommand.invokeMethod(AbstractCommand.java:132)\n\tat py4j.commands.CallCommand.execute(CallCommand.java:79)\n\tat py4j.GatewayConnection.run(GatewayConnection.java:238)\n\tat java.lang.Thread.run(Thread.java:748)\n",
            "\nDuring handling of the above exception, another exception occurred:\n",
            "\u001b[0;31mAnalysisException\u001b[0m                         Traceback (most recent call last)",
            "\u001b[0;32m<ipython-input-35-1ea5c77f7116>\u001b[0m in \u001b[0;36m<module>\u001b[0;34m()\u001b[0m\n\u001b[0;32m----> 1\u001b[0;31m \u001b[0mjoined1\u001b[0m\u001b[0;34m.\u001b[0m\u001b[0mgroupby\u001b[0m\u001b[0;34m(\u001b[0m\u001b[0;34m'id'\u001b[0m\u001b[0;34m)\u001b[0m\u001b[0;34m.\u001b[0m\u001b[0magg\u001b[0m\u001b[0;34m(\u001b[0m\u001b[0;34m{\u001b[0m\u001b[0;34m'category'\u001b[0m\u001b[0;34m:\u001b[0m\u001b[0;34m'count'\u001b[0m\u001b[0;34m,\u001b[0m\u001b[0;34m'count'\u001b[0m\u001b[0;34m:\u001b[0m\u001b[0;34m'sum'\u001b[0m\u001b[0;34m}\u001b[0m\u001b[0;34m)\u001b[0m\u001b[0;34m.\u001b[0m\u001b[0mwithColumnRenamed\u001b[0m\u001b[0;34m(\u001b[0m\u001b[0;34m'count(category)'\u001b[0m\u001b[0;34m,\u001b[0m\u001b[0;34m\"num_category\"\u001b[0m\u001b[0;34m)\u001b[0m\u001b[0;34m.\u001b[0m\u001b[0mshow\u001b[0m\u001b[0;34m(\u001b[0m\u001b[0;34m)\u001b[0m\u001b[0;34m\u001b[0m\u001b[0;34m\u001b[0m\u001b[0m\n\u001b[0m",
            "\u001b[0;32m/content/spark-2.4.0-bin-hadoop2.7/python/pyspark/sql/group.py\u001b[0m in \u001b[0;36magg\u001b[0;34m(self, *exprs)\u001b[0m\n\u001b[1;32m    108\u001b[0m         \u001b[0;32massert\u001b[0m \u001b[0mexprs\u001b[0m\u001b[0;34m,\u001b[0m \u001b[0;34m\"exprs should not be empty\"\u001b[0m\u001b[0;34m\u001b[0m\u001b[0;34m\u001b[0m\u001b[0m\n\u001b[1;32m    109\u001b[0m         \u001b[0;32mif\u001b[0m \u001b[0mlen\u001b[0m\u001b[0;34m(\u001b[0m\u001b[0mexprs\u001b[0m\u001b[0;34m)\u001b[0m \u001b[0;34m==\u001b[0m \u001b[0;36m1\u001b[0m \u001b[0;32mand\u001b[0m \u001b[0misinstance\u001b[0m\u001b[0;34m(\u001b[0m\u001b[0mexprs\u001b[0m\u001b[0;34m[\u001b[0m\u001b[0;36m0\u001b[0m\u001b[0;34m]\u001b[0m\u001b[0;34m,\u001b[0m \u001b[0mdict\u001b[0m\u001b[0;34m)\u001b[0m\u001b[0;34m:\u001b[0m\u001b[0;34m\u001b[0m\u001b[0;34m\u001b[0m\u001b[0m\n\u001b[0;32m--> 110\u001b[0;31m             \u001b[0mjdf\u001b[0m \u001b[0;34m=\u001b[0m \u001b[0mself\u001b[0m\u001b[0;34m.\u001b[0m\u001b[0m_jgd\u001b[0m\u001b[0;34m.\u001b[0m\u001b[0magg\u001b[0m\u001b[0;34m(\u001b[0m\u001b[0mexprs\u001b[0m\u001b[0;34m[\u001b[0m\u001b[0;36m0\u001b[0m\u001b[0;34m]\u001b[0m\u001b[0;34m)\u001b[0m\u001b[0;34m\u001b[0m\u001b[0;34m\u001b[0m\u001b[0m\n\u001b[0m\u001b[1;32m    111\u001b[0m         \u001b[0;32melse\u001b[0m\u001b[0;34m:\u001b[0m\u001b[0;34m\u001b[0m\u001b[0;34m\u001b[0m\u001b[0m\n\u001b[1;32m    112\u001b[0m             \u001b[0;31m# Columns\u001b[0m\u001b[0;34m\u001b[0m\u001b[0;34m\u001b[0m\u001b[0;34m\u001b[0m\u001b[0m\n",
            "\u001b[0;32m/content/spark-2.4.0-bin-hadoop2.7/python/lib/py4j-0.10.7-src.zip/py4j/java_gateway.py\u001b[0m in \u001b[0;36m__call__\u001b[0;34m(self, *args)\u001b[0m\n\u001b[1;32m   1255\u001b[0m         \u001b[0manswer\u001b[0m \u001b[0;34m=\u001b[0m \u001b[0mself\u001b[0m\u001b[0;34m.\u001b[0m\u001b[0mgateway_client\u001b[0m\u001b[0;34m.\u001b[0m\u001b[0msend_command\u001b[0m\u001b[0;34m(\u001b[0m\u001b[0mcommand\u001b[0m\u001b[0;34m)\u001b[0m\u001b[0;34m\u001b[0m\u001b[0;34m\u001b[0m\u001b[0m\n\u001b[1;32m   1256\u001b[0m         return_value = get_return_value(\n\u001b[0;32m-> 1257\u001b[0;31m             answer, self.gateway_client, self.target_id, self.name)\n\u001b[0m\u001b[1;32m   1258\u001b[0m \u001b[0;34m\u001b[0m\u001b[0m\n\u001b[1;32m   1259\u001b[0m         \u001b[0;32mfor\u001b[0m \u001b[0mtemp_arg\u001b[0m \u001b[0;32min\u001b[0m \u001b[0mtemp_args\u001b[0m\u001b[0;34m:\u001b[0m\u001b[0;34m\u001b[0m\u001b[0;34m\u001b[0m\u001b[0m\n",
            "\u001b[0;32m/content/spark-2.4.0-bin-hadoop2.7/python/pyspark/sql/utils.py\u001b[0m in \u001b[0;36mdeco\u001b[0;34m(*a, **kw)\u001b[0m\n\u001b[1;32m     67\u001b[0m                                              e.java_exception.getStackTrace()))\n\u001b[1;32m     68\u001b[0m             \u001b[0;32mif\u001b[0m \u001b[0ms\u001b[0m\u001b[0;34m.\u001b[0m\u001b[0mstartswith\u001b[0m\u001b[0;34m(\u001b[0m\u001b[0;34m'org.apache.spark.sql.AnalysisException: '\u001b[0m\u001b[0;34m)\u001b[0m\u001b[0;34m:\u001b[0m\u001b[0;34m\u001b[0m\u001b[0;34m\u001b[0m\u001b[0m\n\u001b[0;32m---> 69\u001b[0;31m                 \u001b[0;32mraise\u001b[0m \u001b[0mAnalysisException\u001b[0m\u001b[0;34m(\u001b[0m\u001b[0ms\u001b[0m\u001b[0;34m.\u001b[0m\u001b[0msplit\u001b[0m\u001b[0;34m(\u001b[0m\u001b[0;34m': '\u001b[0m\u001b[0;34m,\u001b[0m \u001b[0;36m1\u001b[0m\u001b[0;34m)\u001b[0m\u001b[0;34m[\u001b[0m\u001b[0;36m1\u001b[0m\u001b[0;34m]\u001b[0m\u001b[0;34m,\u001b[0m \u001b[0mstackTrace\u001b[0m\u001b[0;34m)\u001b[0m\u001b[0;34m\u001b[0m\u001b[0;34m\u001b[0m\u001b[0m\n\u001b[0m\u001b[1;32m     70\u001b[0m             \u001b[0;32mif\u001b[0m \u001b[0ms\u001b[0m\u001b[0;34m.\u001b[0m\u001b[0mstartswith\u001b[0m\u001b[0;34m(\u001b[0m\u001b[0;34m'org.apache.spark.sql.catalyst.analysis'\u001b[0m\u001b[0;34m)\u001b[0m\u001b[0;34m:\u001b[0m\u001b[0;34m\u001b[0m\u001b[0;34m\u001b[0m\u001b[0m\n\u001b[1;32m     71\u001b[0m                 \u001b[0;32mraise\u001b[0m \u001b[0mAnalysisException\u001b[0m\u001b[0;34m(\u001b[0m\u001b[0ms\u001b[0m\u001b[0;34m.\u001b[0m\u001b[0msplit\u001b[0m\u001b[0;34m(\u001b[0m\u001b[0;34m': '\u001b[0m\u001b[0;34m,\u001b[0m \u001b[0;36m1\u001b[0m\u001b[0;34m)\u001b[0m\u001b[0;34m[\u001b[0m\u001b[0;36m1\u001b[0m\u001b[0;34m]\u001b[0m\u001b[0;34m,\u001b[0m \u001b[0mstackTrace\u001b[0m\u001b[0;34m)\u001b[0m\u001b[0;34m\u001b[0m\u001b[0;34m\u001b[0m\u001b[0m\n",
            "\u001b[0;31mAnalysisException\u001b[0m: 'Cannot resolve column name \"count\" among (lpep_pickup_datetime, hour, date, day_number, day, is_weekend, VendorID, lpep_dropoff_datetime, store_and_fwd_flag, RatecodeID, PULocationID, DOLocationID, passenger_count, trip_distance, fare_amount, extra, mta_tax, tip_amount, tolls_amount, improvement_surcharge, total_amount, payment_type, trip_type, Duration, speed);'"
          ]
        }
      ]
    },
    {
      "metadata": {
        "id": "cZfmvLol2N4B",
        "colab_type": "code",
        "colab": {}
      },
      "cell_type": "code",
      "source": [
        "#df_pd = green.toPandas()\n",
        "df_pd_passenger_count=df_pd.passenger_count.value_counts()\n",
        "df_pd_passenger_count.sort_index(inplace=True)\n",
        "df_pd_passenger_count= df_pd_passenger_count.plot.bar()\n",
        "#plt.show()\n",
        "#df_pd_passenger_count.head()"
      ],
      "execution_count": 0,
      "outputs": []
    },
    {
      "metadata": {
        "id": "zyAydTYp3sjh",
        "colab_type": "code",
        "colab": {}
      },
      "cell_type": "code",
      "source": [
        "df_pd_passenger_count.plot.bar()"
      ],
      "execution_count": 0,
      "outputs": []
    }
  ]
}